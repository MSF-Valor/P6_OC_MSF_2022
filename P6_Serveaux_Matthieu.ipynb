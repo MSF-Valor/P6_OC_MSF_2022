{
 "cells": [
  {
   "cell_type": "markdown",
   "metadata": {
    "id": "W1_Y_PN5iOPY"
   },
   "source": [
    "# **Projet 6 : Analyser les ventes d'une librairie avec R ou Python**"
   ]
  },
  {
   "cell_type": "markdown",
   "metadata": {
    "id": "v2yK-Ofho2Rm"
   },
   "source": [
    "# **I. Importations des librairies**"
   ]
  },
  {
   "cell_type": "code",
   "execution_count": 1,
   "metadata": {
    "colab": {
     "base_uri": "https://localhost:8080/"
    },
    "id": "tzHTwsgTF5Wy",
    "outputId": "88939c01-6e33-4866-e5a9-98b96b250950"
   },
   "outputs": [],
   "source": [
    "#Importation des librairies\n",
    "import numpy as np\n",
    "import pandas as pd\n",
    "import seaborn as sb\n",
    "import matplotlib.pyplot as plt\n",
    "import statsmodels\n",
    "import time\n",
    "import scipy.stats as st\n",
    "import statsmodels.formula.api\n",
    "import statsmodels.api"
   ]
  },
  {
   "cell_type": "markdown",
   "metadata": {
    "id": "H0GB-L2Wo5ep"
   },
   "source": [
    "# **II. Chargement et préparation des données**"
   ]
  },
  {
   "cell_type": "code",
   "execution_count": 2,
   "metadata": {
    "colab": {
     "base_uri": "https://localhost:8080/"
    },
    "id": "ijk4hWsS8MBP",
    "outputId": "8aa9b24c-4a7f-4987-85e5-26ba4ebb108f"
   },
   "outputs": [
    {
     "name": "stdout",
     "output_type": "stream",
     "text": [
      "T_0    200\n",
      "Name: id_prod, dtype: int64\n",
      "customers\n",
      "\n",
      "client_id    object\n",
      "sex          object\n",
      "birth         int64\n",
      "dtype: object\n",
      "\n",
      "products\n",
      "id_prod     object\n",
      "price      float64\n",
      "categ        int64\n",
      "dtype: object\n",
      "\n",
      "transactions\n",
      "id_prod               object\n",
      "date          datetime64[ns]\n",
      "session_id            object\n",
      "client_id             object\n",
      "dtype: object\n",
      "\n",
      "Test d'unicité sur transactions/session_id\n",
      "\n",
      "True     515982\n",
      "False    163350\n",
      "dtype: int64\n",
      "\n",
      "Test d'unicité sur transactions/date\n",
      "\n",
      "False    679332\n",
      "dtype: int64\n",
      "\n",
      "Test d'unicité sur customers/client_id\n",
      "\n",
      "False    8623\n",
      "dtype: int64\n",
      "\n",
      "Test d'unicité sur products/id_prod\n",
      "\n",
      "False    3287\n",
      "dtype: int64\n",
      "\n",
      "f    4491\n",
      "m    4132\n",
      "Name: sex, dtype: int64\n",
      "\n",
      "Les années de naissance des clients vont de 1929 à 2004 .\n"
     ]
    }
   ],
   "source": [
    "#Chargement des fichiers csv\n",
    "customers = pd.read_csv(\"customers.csv\", sep=\",\")\n",
    "products = pd.read_csv(\"products.csv\", sep=\",\")\n",
    "transactions = pd.read_csv(\"transactions.csv\", sep=\",\")\n",
    "#Test d'unicité\n",
    "#False = nombres de lignes non dupliquées\n",
    "def unicity_check(df, col):\n",
    "    temp = df.duplicated(subset=col, keep=False)\n",
    "    temp = temp.value_counts()\n",
    "    return(temp)\n",
    "#Défini une fonction servant à calculer les moyennes mobiles avec une fenêtre de 3\n",
    "def moy_mob(df):\n",
    "    lendf=len(df)\n",
    "    moys=[]\n",
    "    moys.append(df.iloc[0])\n",
    "    for i in range(1,(lendf-1)):\n",
    "        moymob=(df.iloc[i-1]+df.iloc[i]+df.iloc[i+1])/3\n",
    "        moys.append(moymob)\n",
    "    moys.append(df.iloc[lendf-1])\n",
    "    return(moys)\n",
    "#Ajustements\n",
    "#Calcule la date d'aujourdui et la converti en datetime\n",
    "today = str(time.localtime().tm_year) + \"-\" + str(time.localtime().tm_mon) + \"-\" + str(time.localtime().tm_mday) + \" \" + str(time.localtime().tm_hour) + \":\" + str(time.localtime().tm_min) + \":\" + str(time.localtime().tm_sec) + \".000000\"\n",
    "today = pd.to_datetime(today)\n",
    "#Dataset qui contient les lignes de test\n",
    "test_transac = transactions.loc[transactions[\"id_prod\"]==\"T_0\"]\n",
    "#Affiche les différentes valeurs de id_prod dans test ainsi que leurs nombre d'occurences\n",
    "print(test_transac[\"id_prod\"].value_counts())\n",
    "#Drop les colonnes test\n",
    "transactions = transactions.drop(transactions[transactions.id_prod==\"T_0\"].index)\n",
    "#converti la colonne date en datetime\n",
    "transactions[\"date\"]=pd.to_datetime(transactions[\"date\"])\n",
    "#Vérifications des types de colonnes\n",
    "print(\"customers\")\n",
    "print()\n",
    "print(customers.dtypes)\n",
    "print()\n",
    "print(\"products\")\n",
    "print(products.dtypes)\n",
    "print()\n",
    "print(\"transactions\")\n",
    "print(transactions.dtypes)\n",
    "#test d'unicité\n",
    "print()\n",
    "print(\"Test d'unicité sur transactions/session_id\")\n",
    "print()\n",
    "print(unicity_check(transactions, [\"session_id\"]))\n",
    "print()\n",
    "print(\"Test d'unicité sur transactions/date\")\n",
    "print()\n",
    "print(unicity_check(transactions, [\"date\"]))\n",
    "print()\n",
    "print(\"Test d'unicité sur customers/client_id\")\n",
    "print()\n",
    "print(unicity_check(customers, [\"client_id\"]))\n",
    "print()\n",
    "print(\"Test d'unicité sur products/id_prod\")\n",
    "print()\n",
    "print(unicity_check(products, [\"id_prod\"]))\n",
    "print()\n",
    "print(customers.sex.value_counts())\n",
    "print()\n",
    "print(\"Les années de naissance des clients vont de\",customers.birth.min(),\"à\",customers.birth.max(),\".\")"
   ]
  },
  {
   "cell_type": "markdown",
   "metadata": {
    "id": "8B0ew3uAnLQV"
   },
   "source": [
    "## II.a. Age des clients"
   ]
  },
  {
   "cell_type": "code",
   "execution_count": 3,
   "metadata": {
    "colab": {
     "base_uri": "https://localhost:8080/"
    },
    "id": "NisMfhFBbrpu",
    "outputId": "043d9e80-e494-4a8a-81fd-4e0e999bea64"
   },
   "outputs": [
    {
     "name": "stdout",
     "output_type": "stream",
     "text": [
      "Moyenne d'age : 43.71912327496231\n",
      "Mediane d'age : 43.0\n"
     ]
    }
   ],
   "source": [
    "#Rajoute la colonne age dans la table customers\n",
    "customers[\"age\"]=today.year - customers[\"birth\"]\n",
    "print(\"Moyenne d'age :\", customers.age.mean())\n",
    "print(\"Mediane d'age :\", customers.age.median())"
   ]
  },
  {
   "cell_type": "code",
   "execution_count": 4,
   "metadata": {
    "colab": {
     "base_uri": "https://localhost:8080/",
     "height": 0
    },
    "id": "myn1jWDDVNby",
    "outputId": "e5d9e20e-c57f-4fa7-c9d6-cd2464ad5093"
   },
   "outputs": [
    {
     "data": {
      "text/plain": [
       "<function matplotlib.pyplot.show(close=None, block=None)>"
      ]
     },
     "execution_count": 4,
     "metadata": {},
     "output_type": "execute_result"
    },
    {
     "data": {
      "image/png": "[encoded data removed]",
      "text/plain": [
       "<Figure size 432x288 with 1 Axes>"
      ]
     },
     "metadata": {
      "needs_background": "light"
     },
     "output_type": "display_data"
    }
   ],
   "source": [
    "# Affiche l'histogramme des ages\n",
    "plt.hist(customers[\"age\"], 10)\n",
    "plt.title(\"Répartition des âges\")\n",
    "plt.xlabel(\"age\")\n",
    "plt.ylabel(\"nombre des clients\")\n",
    "plt.show"
   ]
  },
  {
   "cell_type": "code",
   "execution_count": 5,
   "metadata": {
    "colab": {
     "base_uri": "https://localhost:8080/",
     "height": 0
    },
    "id": "GpgsvbDDbltt",
    "outputId": "7cae1c00-96c9-42c7-ec47-524b6248e81c"
   },
   "outputs": [
    {
     "data": {
      "text/plain": [
       "<function matplotlib.pyplot.show(close=None, block=None)>"
      ]
     },
     "execution_count": 5,
     "metadata": {},
     "output_type": "execute_result"
    },
    {
     "data": {
      "image/png": "[encoded data removed]",
      "text/plain": [
       "<Figure size 432x288 with 1 Axes>"
      ]
     },
     "metadata": {
      "needs_background": "light"
     },
     "output_type": "display_data"
    }
   ],
   "source": [
    "# Affiche la boîte à moustache des ages\n",
    "plt.boxplot(customers.age, vert=False)\n",
    "plt.title(\"Répartition des âges\")\n",
    "plt.xlabel(\"age\")\n",
    "plt.show"
   ]
  },
  {
   "cell_type": "markdown",
   "metadata": {},
   "source": [
    "On test la normalité de la répartion des ages."
   ]
  },
  {
   "cell_type": "markdown",
   "metadata": {},
   "source": [
    "Hypothèse H0 : Le jeu de données suit une loi normale."
   ]
  },
  {
   "cell_type": "markdown",
   "metadata": {},
   "source": [
    "On réalise un test de Kolmogorov Smirnov pour tester la normalité."
   ]
  },
  {
   "cell_type": "code",
   "execution_count": 6,
   "metadata": {},
   "outputs": [
    {
     "data": {
      "text/plain": [
       "KstestResult(statistic=0.06423379380873624, pvalue=2.2483631724784304e-31)"
      ]
     },
     "execution_count": 6,
     "metadata": {},
     "output_type": "execute_result"
    }
   ],
   "source": [
    "#Test de Kolmogorov Smirnov pour tester l'adéquation à une loi normale\n",
    "x= np.array(customers[\"age\"], dtype=float)\n",
    "x -= np.mean(x)\n",
    "x /= np.std(x)\n",
    "st.kstest(x,'norm')"
   ]
  },
  {
   "cell_type": "markdown",
   "metadata": {},
   "source": [
    "La pValue est inférieure à 0.05 donc on peut rejeter l'hypothèse H0 avec un taux de risque de 5%."
   ]
  },
  {
   "cell_type": "markdown",
   "metadata": {
    "id": "ttT2SIJjo_7-"
   },
   "source": [
    "## II.b. Jointures de tables"
   ]
  },
  {
   "cell_type": "markdown",
   "metadata": {
    "id": "GArEseEZPZ9i"
   },
   "source": [
    "La jointure entre les tables donne comme résultats :\n",
    "\n",
    "-679 111 both, soit autant de transactions dont la référence produit est présente dans la table products\n",
    "\n",
    "-221 Left only, soit 221 transactions donc le produit n'est pas référencé dans la table products, toujours le même produit 0_2245\n",
    "\n",
    "-22 Right only, soit 22 produits dont aucune transactions ne figure dans la table transactions"
   ]
  },
  {
   "cell_type": "code",
   "execution_count": 7,
   "metadata": {
    "colab": {
     "base_uri": "https://localhost:8080/"
    },
    "id": "a_6cO75ycAPz",
    "outputId": "397d0fa1-d446-48d1-a5a9-b62d1e2019a5"
   },
   "outputs": [
    {
     "name": "stdout",
     "output_type": "stream",
     "text": [
      "Both:\n",
      "679111\n",
      "Left only (transactions sans produits):\n",
      "0_2245    221\n",
      "Name: id_prod, dtype: int64\n",
      "Right only (produits sans transactions):\n",
      "22\n"
     ]
    }
   ],
   "source": [
    "#Jointure test transactions products\n",
    "transactions2 = pd.merge(transactions, products, on=\"id_prod\", how=\"outer\", indicator=True)\n",
    "#Datasets contenant les both, right only et left only\n",
    "both=transactions2.loc[transactions2[\"_merge\"]==\"both\"]\n",
    "left_only=transactions2.loc[transactions2[\"_merge\"]==\"left_only\"]\n",
    "right_only=transactions2.loc[transactions2[\"_merge\"]==\"right_only\"]\n",
    "#Affiche le nombre de both, right only, left only\n",
    "print(\"Both:\")\n",
    "print(both.id_prod.value_counts().sum())\n",
    "print(\"Left only (transactions sans produits):\")\n",
    "print(left_only.id_prod.value_counts())\n",
    "print(\"Right only (produits sans transactions):\")\n",
    "print(right_only.id_prod.value_counts().sum())\n",
    "#Jointure finale transactions products\n",
    "transactions2 = pd.merge(transactions, products, on=\"id_prod\", how=\"inner\")"
   ]
  },
  {
   "cell_type": "code",
   "execution_count": 8,
   "metadata": {
    "colab": {
     "base_uri": "https://localhost:8080/"
    },
    "id": "bbJWQjNInvz6",
    "outputId": "b76e0b5a-37c7-45a1-c22f-00db9e1e4c21"
   },
   "outputs": [
    {
     "name": "stdout",
     "output_type": "stream",
     "text": [
      "Both:\n",
      "679332\n",
      "Left only (transactions sans clients):\n",
      "0\n",
      "Right only (clients sans transactions):\n",
      "0\n"
     ]
    }
   ],
   "source": [
    "#Jointure test transactions customers\n",
    "transactions3 = pd.merge(transactions, customers, on=\"client_id\", how=\"outer\", indicator=True)\n",
    "#Datasets contenant les both, right only et left only\n",
    "both2=transactions3.loc[transactions3[\"_merge\"]==\"both\"]\n",
    "left_only2=transactions3.loc[transactions3[\"_merge\"]==\"left_only\"]\n",
    "right_only2=transactions3.loc[transactions3[\"_merge\"]==\"right_only\"]\n",
    "#Affiche le nombre de both, right only, left only\n",
    "print(\"Both:\")\n",
    "print(both2.id_prod.value_counts().sum())\n",
    "print(\"Left only (transactions sans clients):\")\n",
    "print(left_only2.id_prod.value_counts().sum())\n",
    "print(\"Right only (clients sans transactions):\")\n",
    "print(right_only2.id_prod.value_counts().sum())\n",
    "#Jointure finale transactions customers\n",
    "transactions3 = pd.merge(transactions, customers, on=\"client_id\", how=\"left\")"
   ]
  },
  {
   "cell_type": "code",
   "execution_count": 9,
   "metadata": {
    "colab": {
     "base_uri": "https://localhost:8080/"
    },
    "id": "c2Kqa-i8o0B6",
    "outputId": "4ce68594-d66f-4620-f6b2-11d86dae1c13"
   },
   "outputs": [
    {
     "name": "stdout",
     "output_type": "stream",
     "text": [
      "Both:\n",
      "679111\n",
      "Left only (Transactions avec produits non reconnus):\n",
      "221\n",
      "Right only (Produits sans transactions):\n",
      "22\n"
     ]
    }
   ],
   "source": [
    "#Jointure test transactions customers\n",
    "transactions4 = pd.merge(transactions3, products, on=\"id_prod\", how=\"outer\", indicator=True)\n",
    "#Datasets contenant les both, right only et left only\n",
    "both3=transactions4.loc[transactions4[\"_merge\"]==\"both\"]\n",
    "left_only3=transactions4.loc[transactions4[\"_merge\"]==\"left_only\"]\n",
    "right_only3=transactions4.loc[transactions4[\"_merge\"]==\"right_only\"]\n",
    "#Affiche le nombre de both, right only, left only\n",
    "print(\"Both:\")\n",
    "print(both3.id_prod.value_counts().sum())\n",
    "print(\"Left only (Transactions avec produits non reconnus):\")\n",
    "print(left_only3.id_prod.value_counts().sum())\n",
    "print(\"Right only (Produits sans transactions):\")\n",
    "print(right_only3.id_prod.value_counts().sum())\n",
    "#Jointure finale transactions customers\n",
    "transactions4 = pd.merge(transactions3, products, on=\"id_prod\", how=\"inner\")"
   ]
  },
  {
   "cell_type": "markdown",
   "metadata": {
    "id": "eflUXgtgeWFM"
   },
   "source": [
    "La table transaction contenait à la base 679 332 lignes, après la jointure avec les tables cutomers et products elle n'en contient plus que 679 111, ce sont 221 lignes de transactions qui ont été perdues, qui correspondent à des transactions dont le produit n'apparaît pas dans la base de données (0_2245)."
   ]
  },
  {
   "cell_type": "markdown",
   "metadata": {
    "id": "uH7cVQBCbnTZ"
   },
   "source": [
    "## II.c. Déclarations de variables"
   ]
  },
  {
   "cell_type": "code",
   "execution_count": 10,
   "metadata": {
    "id": "KZNUyf58TsiA"
   },
   "outputs": [],
   "source": [
    "#Créé un Dataframe contenant les données de customers, transactions et products sans les outliers\n",
    "transactions4_nootl = transactions4[(transactions4.client_id != \"c_3454\") & (transactions4.client_id != \"c_6714\") & (transactions4.client_id != \"c_4958\") & (transactions4.client_id != \"c_1609\")]\n",
    "#Créé une liste qui réprésentera les tranches d'age\n",
    "age_groups = [1, 18, 25, 35, 45, 55 , 65, 100]"
   ]
  },
  {
   "cell_type": "markdown",
   "metadata": {
    "id": "7d-jZydqKhB_"
   },
   "source": [
    "# **III. Demandes d'Antoine**"
   ]
  },
  {
   "cell_type": "markdown",
   "metadata": {
    "id": "kHZP5cPsKnZk"
   },
   "source": [
    "## III.a. Chiffre d'affaire par mois"
   ]
  },
  {
   "cell_type": "code",
   "execution_count": 11,
   "metadata": {},
   "outputs": [],
   "source": [
    "#Script qui retourne un dataframe contenant le chiffre d'affaire par mois\n",
    "def CA_calc(df, col_price, col_date):\n",
    "  start = df[col_date].min()\n",
    "  finish = df[col_date].max()\n",
    "  CA_1 = df[col_price].loc[(df[col_date].dt.month == start.month) & (df[col_date].dt.year == start.year)].sum()\n",
    "  month_1 = start.month\n",
    "  year_1 = start.year\n",
    "  date_CA = pd.to_datetime(str(year_1) + \"-\" + str(month_1))\n",
    "  CA = pd.DataFrame(columns=[\"date\", \"CA\"])\n",
    "  CA = CA.append({'date': date_CA, 'CA': CA_1}, ignore_index=True)\n",
    "  while year_1 < finish.year :\n",
    "    while month_1 <12 :\n",
    "      month_1 += 1\n",
    "      date_CA = pd.to_datetime(str(year_1) + \"-\" + str(month_1))\n",
    "      CA_1 = df[col_price].loc[(df[col_date].dt.month == month_1) & (df[col_date].dt.year == year_1)].sum()\n",
    "      CA = CA.append({'date': date_CA, 'CA': CA_1}, ignore_index=True)\n",
    "    else :\n",
    "      year_1 += 1\n",
    "      month_1 = 1\n",
    "      date_CA = pd.to_datetime(str(year_1) + \"-\" + str(month_1))\n",
    "      CA_1 = df[col_price].loc[(df[col_date].dt.month == month_1) & (df[col_date].dt.year == year_1)].sum()\n",
    "      CA = CA.append({'date': date_CA, 'CA': CA_1}, ignore_index=True)\n",
    "  else :\n",
    "    while month_1 < finish.month :\n",
    "      month_1 += 1\n",
    "      date_CA = pd.to_datetime(str(year_1) + \"-\" + str(month_1))\n",
    "      CA_1 = df[col_price].loc[(df[col_date].dt.month == month_1) & (df[col_date].dt.year == year_1)].sum()\n",
    "      CA = CA.append({'date': date_CA, 'CA': CA_1}, ignore_index=True)\n",
    "  return(CA)"
   ]
  },
  {
   "cell_type": "code",
   "execution_count": 12,
   "metadata": {},
   "outputs": [],
   "source": [
    "# Calcule le chiffre d'affaire par mois avec la fonction, sert pour les dates\n",
    "CA_date = CA_calc(transactions2, \"price\", \"date\")"
   ]
  },
  {
   "cell_type": "code",
   "execution_count": 13,
   "metadata": {
    "colab": {
     "base_uri": "https://localhost:8080/",
     "height": 0
    },
    "id": "lpDzOKZdIYm5",
    "outputId": "59eb27c5-29d9-450e-bc1c-6971a640c261"
   },
   "outputs": [
    {
     "data": {
      "image/png": "[encoded data removed]",
      "text/plain": [
       "<Figure size 432x288 with 1 Axes>"
      ]
     },
     "metadata": {
      "needs_background": "light"
     },
     "output_type": "display_data"
    }
   ],
   "source": [
    "# Calcule les chiffres d'affaire par mois\n",
    "CA = transactions2.groupby([pd.Grouper(key='date', freq='1M')]).sum()\n",
    "# Renomme la colonne price en CA\n",
    "CA = CA.rename(columns={\"price\":\"CA\"})\n",
    "# Drop la colonne categ\n",
    "CA = CA.drop(columns=\"categ\")\n",
    "#Affiche les chiffres d'affaires par mois sur un graphique à barres\n",
    "x=CA_date.date\n",
    "y=CA[\"CA\"]\n",
    "plt.bar(x, y, width=20)\n",
    "plt.xticks(rotation=90)\n",
    "plt.title(\"Evolution du chiffre d'affaire par mois\")\n",
    "plt.xlabel(\"Mois\")\n",
    "plt.ylabel(\"Chiffre d'affaire\")\n",
    "plt.show()"
   ]
  },
  {
   "cell_type": "code",
   "execution_count": 14,
   "metadata": {
    "colab": {
     "base_uri": "https://localhost:8080/",
     "height": 0
    },
    "id": "rZ-32Xx8sl7J",
    "outputId": "f980c220-3d19-4734-e68f-98acd0f7ecbb"
   },
   "outputs": [
    {
     "data": {
      "image/png": "[encoded data removed]",
      "text/plain": [
       "<Figure size 432x288 with 1 Axes>"
      ]
     },
     "metadata": {
      "needs_background": "light"
     },
     "output_type": "display_data"
    }
   ],
   "source": [
    "#Affiche les chiffres d'affaires par mois sur un graphique\n",
    "x=CA_date.date\n",
    "y=CA[\"CA\"]\n",
    "ax = plt.subplot(111)\n",
    "CAplot = plt.plot(x,y, label=\"CA\")\n",
    "moymobplot = plt.plot(x,moy_mob(CA.CA), label=\"CA moyenne mobiles\")\n",
    "plt.xticks(rotation=90)\n",
    "plt.title(\"Evolution du chiffre d'affaire par mois\")\n",
    "plt.xlabel(\"Mois\")\n",
    "plt.ylabel(\"Chiffre d'affaire\")\n",
    "plt.legend(loc=\"best\")\n",
    "plt.grid()\n",
    "plt.show()"
   ]
  },
  {
   "cell_type": "code",
   "execution_count": 15,
   "metadata": {
    "colab": {
     "base_uri": "https://localhost:8080/"
    },
    "id": "tAzQNGNkPurg",
    "outputId": "2e8df42f-2cc7-4335-b667-83f198bb5d06"
   },
   "outputs": [
    {
     "data": {
      "text/plain": [
       "id_prod                            1_369\n",
       "date          2021-03-01 00:01:07.843138\n",
       "session_id                      s_118668\n",
       "client_id                         c_1609\n",
       "price                              15.99\n",
       "categ                                0.0\n",
       "Name: 0, dtype: object"
      ]
     },
     "execution_count": 15,
     "metadata": {},
     "output_type": "execute_result"
    }
   ],
   "source": [
    "# Donne le mode pour les transactions\n",
    "transactions_mode = transactions2.mode()\n",
    "transactions_mode.iloc[0]"
   ]
  },
  {
   "cell_type": "code",
   "execution_count": 16,
   "metadata": {
    "colab": {
     "base_uri": "https://localhost:8080/"
    },
    "id": "ihPtF_CCR6ug",
    "outputId": "d9917468-a058-4806-fa81-e76f0770bdea"
   },
   "outputs": [
    {
     "name": "stdout",
     "output_type": "stream",
     "text": [
      "Prix moyen : 17.454773490733356\n",
      "Prix median : 13.99\n"
     ]
    }
   ],
   "source": [
    "# Calcule et affiche le prix moyen et le prix médian\n",
    "transactions_moyenne = transactions2.price.mean()\n",
    "transactions_median = transactions2.price.median()\n",
    "print(\"Prix moyen :\",transactions_moyenne)\n",
    "print(\"Prix median :\",transactions_median)"
   ]
  },
  {
   "cell_type": "code",
   "execution_count": 17,
   "metadata": {
    "colab": {
     "base_uri": "https://localhost:8080/"
    },
    "id": "cGw30RdzSbXX",
    "outputId": "692262b6-2c94-43cc-b0fd-228f5b6b3646"
   },
   "outputs": [
    {
     "name": "stdout",
     "output_type": "stream",
     "text": [
      "En moyenne les transactions présentent un écart de 18 par rapport à la moyenne des transactions.\n"
     ]
    }
   ],
   "source": [
    "# Calcule l'écart-type des transactions\n",
    "transactions_deviation = transactions2.price.std()\n",
    "print(\"En moyenne les transactions présentent un écart de\", round(transactions_deviation), \"par rapport à la moyenne des transactions.\")"
   ]
  },
  {
   "cell_type": "code",
   "execution_count": 18,
   "metadata": {
    "colab": {
     "base_uri": "https://localhost:8080/"
    },
    "id": "T-ZtYgevVVEh",
    "outputId": "2e18472f-ae3e-496b-b0e1-87ce5180d90b"
   },
   "outputs": [
    {
     "name": "stdout",
     "output_type": "stream",
     "text": [
      "Nombre moyen de transactions par mois :  28587\n"
     ]
    }
   ],
   "source": [
    "#Calcule le nombre de transactions par mois\n",
    "Nb_transactions = transactions2.groupby([pd.Grouper(key='date', freq='1M')]).count()\n",
    "#Drop les colonnes inutiles\n",
    "Nb_transactions.drop(Nb_transactions.iloc[:, 1:5], inplace = True, axis = 1)\n",
    "#Renomme id_prod en Nb_transactions\n",
    "Nb_transactions = Nb_transactions.rename(columns={\"id_prod\":\"Nb_transactions\"})\n",
    "#Retire les données pour Octobre 2021\n",
    "Nb_transactions_Oct2021 = Nb_transactions.iloc[7]\n",
    "Nb_transactions = Nb_transactions[Nb_transactions.Nb_transactions != 21599]\n",
    "print(\"Nombre moyen de transactions par mois : \",round(Nb_transactions.Nb_transactions.mean()))"
   ]
  },
  {
   "cell_type": "markdown",
   "metadata": {
    "id": "rpn3mu4Dy-NM"
   },
   "source": [
    "## III.b. Chiffre d'affaire d'Octobre 2021"
   ]
  },
  {
   "cell_type": "code",
   "execution_count": 19,
   "metadata": {
    "colab": {
     "base_uri": "https://localhost:8080/",
     "height": 0
    },
    "id": "YUppENDXzEmR",
    "outputId": "704a4ccc-d776-4ca2-85ec-c1790fcba48c"
   },
   "outputs": [
    {
     "data": {
      "image/png": "[encoded data removed]",
      "text/plain": [
       "<Figure size 720x360 with 1 Axes>"
      ]
     },
     "metadata": {
      "needs_background": "light"
     },
     "output_type": "display_data"
    }
   ],
   "source": [
    "#Isoler les données de ventes d'Octobre 2021\n",
    "Novembre_2021 = \"2021-11\"\n",
    "Novembre_2021 = pd.to_datetime(Novembre_2021)\n",
    "Octobre_2021 = \"2021-10\"\n",
    "Octobre_2021 = pd.to_datetime(Octobre_2021)\n",
    "transactions_21_10 = transactions2.loc[transactions2.date<Novembre_2021]\n",
    "transactions_21_10 = transactions_21_10.loc[transactions_21_10.date>Octobre_2021]\n",
    "\n",
    "#Isoler les données de ventes de Septembre 2021\n",
    "Septembre_2021 = \"2021-09\"\n",
    "Septembre_2021 = pd.to_datetime(Septembre_2021)\n",
    "transactions_21_09 = transactions2.loc[transactions2.date<Octobre_2021]\n",
    "transactions_21_09 = transactions_21_09.loc[transactions_21_09.date>Septembre_2021]\n",
    "\n",
    "categ_21_10 = transactions_21_10.groupby(by=\"categ\").sum()\n",
    "categ_21_09 = transactions_21_09.groupby(by=\"categ\").sum()\n",
    "\n",
    "#Converti les dataframe en series\n",
    "categ_21_10 = categ_21_10.price.squeeze(axis=0)\n",
    "categ_21_09 = categ_21_09.price.squeeze(axis=0)\n",
    "\n",
    "# Nombre de barres pour le graph\n",
    "N=3\n",
    "# Position des barres sur l'axe des abscisses\n",
    "ind = np.arange(N)\n",
    "# Règle la taille de la figure\n",
    "plt.figure(figsize=(10,5))\n",
    "# Règle la largeur des barres\n",
    "width = 0.3\n",
    "# Créé les barres\n",
    "h=plt.bar(ind, categ_21_09 , width, label='Septembre')\n",
    "f=plt.bar(ind + width, categ_21_10, width, label='Octobre')\n",
    "# Affiche le nom des axes\n",
    "plt.xlabel('Catégories de produit')\n",
    "plt.ylabel(\"Chiffre d'affaire\")\n",
    "#Affiche le titre\n",
    "plt.title('Comparaison du CA de Septembre/Octobre par catégories ')\n",
    "# Affiche les noms des ticks de l'axe des abscisses\n",
    "plt.xticks(ind + width / 2, ('Catégorie 0', 'Catégorie 1', 'Catégorie 2'))\n",
    "# Affiche la légende\n",
    "plt.legend(loc='best')\n",
    "\n",
    "for i in range(3):\n",
    "  plt.text(-0.1+i, categ_21_09.iloc[0+i], str(round(categ_21_09.iloc[0+i])))\n",
    "  plt.text(0.2+i, categ_21_10.iloc[0+i], str(round(categ_21_10.iloc[0+i])))\n",
    "#Faire des tests entre variables\n",
    "plt.show()"
   ]
  },
  {
   "cell_type": "code",
   "execution_count": 20,
   "metadata": {
    "colab": {
     "base_uri": "https://localhost:8080/"
    },
    "id": "5o_OEnaH53F2",
    "outputId": "dd9d69e7-f83d-4b29-f410-c5609f0fc3ac"
   },
   "outputs": [
    {
     "name": "stdout",
     "output_type": "stream",
     "text": [
      "    id_prod  CA Octobre 2021\n",
      "159   1_432           532.40\n",
      "177   1_456           424.05\n",
      "134   1_383           405.86\n",
      "142   1_395           405.86\n",
      "143   1_396           390.60\n",
      "125   1_369           359.85\n",
      "174   1_451           356.83\n",
      "88    1_301           335.88\n",
      "155   1_417           335.84\n",
      "154   1_414           333.62\n"
     ]
    },
    {
     "data": {
      "text/plain": [
       "376"
      ]
     },
     "execution_count": 20,
     "metadata": {},
     "output_type": "execute_result"
    }
   ],
   "source": [
    "# Isole les données de transactions d'Octobre 2021 pour la catégorie 1\n",
    "transactions_21_10_c1 = transactions_21_10.loc[transactions_21_10.categ==1]\n",
    "# Fait la somme des transactions par produits\n",
    "transactions_21_10_c1 = transactions_21_10_c1.groupby(by=\"id_prod\", as_index=False).sum()\n",
    "# Supprimme les colonnes inutiles\n",
    "transactions_21_10_c1 = transactions_21_10_c1.drop(columns=[\"categ\"])\n",
    "# Renomme la colonne price\n",
    "transactions_21_10_c1 = transactions_21_10_c1.rename(columns={\"price\":\"CA Octobre 2021\"})\n",
    "# Affiche le top 10 du chiffre d'affaire par produit\n",
    "print(transactions_21_10_c1.sort_values(by=\"CA Octobre 2021\", ascending=False).head(10))\n",
    "# Affiche le nombre de produits présents dans la liste\n",
    "len(transactions_21_10_c1)"
   ]
  },
  {
   "cell_type": "code",
   "execution_count": 21,
   "metadata": {
    "colab": {
     "base_uri": "https://localhost:8080/"
    },
    "id": "JaLtp76j7UHq",
    "outputId": "ffd72cc6-fb01-4248-e413-00a2a57f266a"
   },
   "outputs": [
    {
     "name": "stdout",
     "output_type": "stream",
     "text": [
      "    id_prod  CA Septembre 2021\n",
      "234   1_369            2351.02\n",
      "248   1_385            2339.10\n",
      "254   1_395            2290.21\n",
      "278   1_431            2127.24\n",
      "246   1_383            2058.29\n",
      "269   1_414            1954.06\n",
      "270   1_417            1952.07\n",
      "251   1_389            1899.24\n",
      "232   1_366            1798.02\n",
      "326   1_498            1776.12\n"
     ]
    },
    {
     "data": {
      "text/plain": [
       "599"
      ]
     },
     "execution_count": 21,
     "metadata": {},
     "output_type": "execute_result"
    }
   ],
   "source": [
    "# Isole les données de transactions de Septembre 2021 pour la catégorie 1\n",
    "transactions_21_09_c1 = transactions_21_09.loc[transactions_21_09.categ==1]\n",
    "# Fait la somme des transactions par produits\n",
    "transactions_21_09_c1 = transactions_21_09_c1.groupby(by=\"id_prod\", as_index=False).sum()\n",
    "# Supprimme les colonnes inutiles\n",
    "transactions_21_09_c1 = transactions_21_09_c1.drop(columns=[\"categ\"])\n",
    "# Renomme la colonne price\n",
    "transactions_21_09_c1 = transactions_21_09_c1.rename(columns={\"price\":\"CA Septembre 2021\"})\n",
    "# Affiche le top 10 du chiffre d'affaire par produit\n",
    "print(transactions_21_09_c1.sort_values(by=\"CA Septembre 2021\", ascending=False).head(10))\n",
    "# Affiche le nombre de produits présents dans la liste\n",
    "len(transactions_21_09_c1)"
   ]
  },
  {
   "cell_type": "code",
   "execution_count": 22,
   "metadata": {
    "colab": {
     "base_uri": "https://localhost:8080/",
     "height": 0
    },
    "id": "iJ_8Dej1BODZ",
    "outputId": "50347386-d4ce-4013-b7a0-6bf1dd9a6db4"
   },
   "outputs": [
    {
     "data": {
      "text/plain": [
       "<function matplotlib.pyplot.show(close=None, block=None)>"
      ]
     },
     "execution_count": 22,
     "metadata": {},
     "output_type": "execute_result"
    },
    {
     "data": {
      "image/png": "[encoded data removed]",
      "text/plain": [
       "<Figure size 432x288 with 1 Axes>"
      ]
     },
     "metadata": {
      "needs_background": "light"
     },
     "output_type": "display_data"
    }
   ],
   "source": [
    "# Calcule le chiffre d'affaire par mois et par catégorie\n",
    "CA_pmc = transactions2.groupby([pd.Grouper(key='date', freq='1M'), \"categ\"]).sum()\n",
    "# Calcule le chiffre d'affaire par mois pour chaque catégorie\n",
    "idx = pd.IndexSlice\n",
    "CA_pmc0 = CA_pmc.loc[idx[:, 0], :]\n",
    "CA_pmc1 = CA_pmc.loc[idx[:, 1], :]\n",
    "CA_pmc2 = CA_pmc.loc[idx[:, 2], :]\n",
    "# Affiche le chiffre d'affaire par mois pour chaque catégorie sous forme de courbes\n",
    "ax = plt.subplot(111)\n",
    "CA_pmc0c = plt.plot(x, CA_pmc0.price, color='green', label='Catégorie 0')\n",
    "CA_pmc1c = plt.plot(x, CA_pmc1.price, color='red', label='Catégorie 1')\n",
    "CA_pmc2c = plt.plot(x, CA_pmc2.price, color='blue', label='Catégorie 2')\n",
    "plt.xticks(rotation=90)\n",
    "plt.title(\"Evolution du chiffre d'affaire par catégorie de produit\")\n",
    "plt.legend(loc='best')\n",
    "plt.grid()\n",
    "plt.show"
   ]
  },
  {
   "cell_type": "code",
   "execution_count": 23,
   "metadata": {},
   "outputs": [
    {
     "data": {
      "text/plain": [
       "<function matplotlib.pyplot.show(close=None, block=None)>"
      ]
     },
     "execution_count": 23,
     "metadata": {},
     "output_type": "execute_result"
    },
    {
     "data": {
      "image/png": "[encoded data removed]",
      "text/plain": [
       "<Figure size 432x288 with 1 Axes>"
      ]
     },
     "metadata": {
      "needs_background": "light"
     },
     "output_type": "display_data"
    }
   ],
   "source": [
    "#Caclule les moyennes mobiles pour le CA\n",
    "moy_mob_CA = moy_mob(CA.CA)\n",
    "moyennes_mobiles0 = moy_mob(CA_pmc0[\"price\"])\n",
    "moyennes_mobiles1 = moy_mob(CA_pmc1[\"price\"])\n",
    "moyennes_mobiles2 = moy_mob(CA_pmc2[\"price\"])\n",
    "# Affiche le chiffre d'affaire par mois en moyenes mobiles pour chaque catégorie sous forme de courbes\n",
    "ax = plt.subplot(111)\n",
    "CA_mm0c = plt.plot(x, moyennes_mobiles0, color='green', label='Catégorie 0')\n",
    "CA_mm1c = plt.plot(x, moyennes_mobiles1, color='red', label='Catégorie 1')\n",
    "CA_mm2c = plt.plot(x, moyennes_mobiles2, color='blue', label='Catégorie 2')\n",
    "CA_moy_mob = plt.plot(x, moy_mob_CA, color='black', label='total')\n",
    "plt.xticks(rotation=90)\n",
    "plt.title(\"Evolution du chiffre d'affaire moyennes mobilkes\")\n",
    "plt.legend(loc='best')\n",
    "plt.grid()\n",
    "plt.show"
   ]
  },
  {
   "cell_type": "code",
   "execution_count": 24,
   "metadata": {
    "colab": {
     "base_uri": "https://localhost:8080/"
    },
    "id": "eRxLP15DXadL",
    "outputId": "0bc7cdde-925c-4560-91ef-3169e2acb9b7"
   },
   "outputs": [
    {
     "name": "stdout",
     "output_type": "stream",
     "text": [
      "245 produits de catégorie 1 qui se sont vendus en Septembre 2021 sont absents des ventes d'Octobre 2021, sur  739  produits de catégorie 1, soit  33 % des produits de catégorie 1.\n"
     ]
    }
   ],
   "source": [
    "# Jointure de table pour identifier les différences de produits dans les transactions de Septembre 2021 et Octobre 2021\n",
    "Manque_10_21 = pd.merge(transactions_21_10_c1,transactions_21_09_c1,on=\"id_prod\", how=\"outer\", indicator=True)\n",
    "# Compte le nombre de produits manquants pour Octobre 2021 par rapport à Septembre 2021\n",
    "p_manquant = len(Manque_10_21.loc[Manque_10_21._merge==\"right_only\"])\n",
    "# Compte le nombre total de produits en catégorie 1\n",
    "p_categ1 = len(products.loc[products.categ==1])\n",
    "print(p_manquant,\"produits de catégorie 1 qui se sont vendus en Septembre 2021 sont absents des ventes d'Octobre 2021, sur \", p_categ1, \" produits de catégorie 1, soit \",round(p_manquant/p_categ1*100),\"% des produits de catégorie 1.\")"
   ]
  },
  {
   "cell_type": "code",
   "execution_count": 25,
   "metadata": {},
   "outputs": [
    {
     "name": "stderr",
     "output_type": "stream",
     "text": [
      "C:\\Users\\ThyEx\\anaconda3\\lib\\site-packages\\pandas\\core\\indexing.py:692: SettingWithCopyWarning: \n",
      "A value is trying to be set on a copy of a slice from a DataFrame\n",
      "\n",
      "See the caveats in the documentation: https://pandas.pydata.org/pandas-docs/stable/user_guide/indexing.html#returning-a-view-versus-a-copy\n",
      "  iloc._setitem_with_indexer(indexer, value, self.name)\n"
     ]
    },
    {
     "data": {
      "image/png": "[encoded data removed]",
      "text/plain": [
       "<Figure size 432x288 with 1 Axes>"
      ]
     },
     "metadata": {
      "needs_background": "light"
     },
     "output_type": "display_data"
    }
   ],
   "source": [
    "trans_oct_perday = transactions_21_10.groupby([pd.Grouper(key='date', freq='1D'), \"categ\"]).sum()\n",
    "# Calcule le chiffre d'affaire par mois pour chaque catégorie\n",
    "idx = pd.IndexSlice\n",
    "trans_oct_perday0 = trans_oct_perday.loc[idx[:, 0], :]\n",
    "trans_oct_perday1 = trans_oct_perday.loc[idx[:, 1], :]\n",
    "\n",
    "#prépare les données pour la catégorie 1\n",
    "trans_oct_temp = trans_oct_perday0\n",
    "trans_oct_temp.price.iloc[0] = trans_oct_perday1.price.iloc[0]\n",
    "trans_oct_temp.price.iloc[1:27] = 0\n",
    "#print(trans_oct_perday0)\n",
    "trans_oct_temp.price.iloc[27:31] = trans_oct_perday1.price.iloc[1:5]\n",
    "trans_oct_perday1 = trans_oct_temp\n",
    "\n",
    "#Prépare les données pour les dates de l'axe des abscisses\n",
    "datesindex = trans_oct_perday0\n",
    "datesindex.index = datesindex.index.droplevel(1)\n",
    "datesindex\n",
    "xdates=datesindex.index\n",
    "\n",
    "trans_oct_perday0 = trans_oct_perday.loc[idx[:, 0], :]\n",
    "trans_oct_perday2 = trans_oct_perday.loc[idx[:, 2], :]\n",
    "# Affiche le chiffre d'affaire par mois pour chaque catégorie sous forme de courbes\n",
    "ax = plt.subplot(111)\n",
    "trans_oct_perday0g = plt.plot(xdates, trans_oct_perday0.price, color='green', label='Catégorie 0')\n",
    "trans_oct_perday1g = plt.plot(xdates, trans_oct_perday1.price, color='red', label='Catégorie 1')\n",
    "trans_oct_perday2g = plt.plot(xdates, trans_oct_perday2.price, color='blue', label='Catégorie 2')\n",
    "plt.xticks(rotation=90)\n",
    "plt.title(\"CA Octobre par jour\")\n",
    "plt.legend(loc='best')\n",
    "plt.grid()\n",
    "plt.show()"
   ]
  },
  {
   "cell_type": "markdown",
   "metadata": {},
   "source": [
    "Si on observe les ventes par jour on voit que des données semblent manquer pour la catégorie 1 du 2 au 27 Octobre."
   ]
  },
  {
   "cell_type": "markdown",
   "metadata": {
    "id": "K6LQpH5l4p88"
   },
   "source": [
    "## III.c. Nombre de ventes par produit"
   ]
  },
  {
   "cell_type": "code",
   "execution_count": 26,
   "metadata": {
    "colab": {
     "base_uri": "https://localhost:8080/"
    },
    "id": "O5lUGOpPvhFK",
    "outputId": "db0c82ef-f0b7-4468-8d8e-8429df0dd284"
   },
   "outputs": [
    {
     "name": "stdout",
     "output_type": "stream",
     "text": [
      "  id_prod sales\n",
      "0   1_369  2252\n",
      "1   1_417  2189\n",
      "2   1_414  2180\n",
      "3   1_498  2128\n",
      "4   1_425  2096\n",
      "5   1_403  1960\n",
      "6   1_412  1951\n",
      "7   1_413  1945\n",
      "8   1_406  1939\n",
      "9   1_407  1935\n",
      "     id_prod sales\n",
      "3264    2_98     1\n",
      "3247   0_549     1\n",
      "3248    2_81     1\n",
      "3249  0_1379     1\n",
      "3250   0_541     1\n",
      "3251   0_886     1\n",
      "3252  0_1728     1\n",
      "3253   0_807     1\n",
      "3254  0_1284     1\n",
      "3263  0_1539     1\n"
     ]
    }
   ],
   "source": [
    "#Créé un dataframe contenant le nombre de ventes par produit\n",
    "product_sales = pd.DataFrame(transactions2.id_prod.value_counts().reset_index().values, columns=[\"id_prod\", \"sales\"])\n",
    "#Range les valeurs par ordre décroissant\n",
    "product_sales = product_sales.sort_index(axis = 0, ascending=True)\n",
    "#Affiche le top 10\n",
    "print(product_sales.head(10))\n",
    "#Range les valeurs par ordre croissant et affiche le top 10\n",
    "print(product_sales.sort_values(by=\"sales\", ascending=True).head(10))"
   ]
  },
  {
   "cell_type": "markdown",
   "metadata": {
    "id": "4qwVS7RPDEbN"
   },
   "source": [
    "## III.d. Nombre de ventes par client"
   ]
  },
  {
   "cell_type": "code",
   "execution_count": 27,
   "metadata": {
    "colab": {
     "base_uri": "https://localhost:8080/"
    },
    "id": "Zn0uPgaCDDz7",
    "outputId": "4013aa20-ac3d-4fe2-dc15-c443e201aa77"
   },
   "outputs": [
    {
     "data": {
      "text/plain": [
       "c_1609    25488\n",
       "c_6714     9181\n",
       "c_3454     6770\n",
       "c_4958     5195\n",
       "c_3263      403\n",
       "c_2140      402\n",
       "c_2595      398\n",
       "c_2077      384\n",
       "c_1637      380\n",
       "c_7421      379\n",
       "Name: client_id, dtype: int64"
      ]
     },
     "execution_count": 27,
     "metadata": {},
     "output_type": "execute_result"
    }
   ],
   "source": [
    "# Affiche le nombre de ventes par client\n",
    "transactions2.client_id.value_counts().head(10)"
   ]
  },
  {
   "cell_type": "markdown",
   "metadata": {
    "id": "goqK8zJf5Ab_"
   },
   "source": [
    "## III.e. Chiffre d'affaire par produit"
   ]
  },
  {
   "cell_type": "code",
   "execution_count": 28,
   "metadata": {
    "colab": {
     "base_uri": "https://localhost:8080/"
    },
    "id": "28fttcAq1IrG",
    "outputId": "af1e1334-f2f0-4bcc-c036-ca57e62f938c"
   },
   "outputs": [
    {
     "name": "stdout",
     "output_type": "stream",
     "text": [
      "Tops:\n",
      "               CA\n",
      "id_prod          \n",
      "2_159    94893.50\n",
      "2_135    69334.95\n",
      "2_112    65407.76\n",
      "2_102    60736.78\n",
      "2_209    56971.86\n",
      "1_395    54356.25\n",
      "1_369    54025.48\n",
      "2_110    53846.25\n",
      "2_39     53060.85\n",
      "2_166    52449.12\n",
      "Flops:\n",
      "           CA\n",
      "id_prod      \n",
      "0_1539   0.99\n",
      "0_1284   1.38\n",
      "0_1653   1.98\n",
      "0_1601   1.99\n",
      "0_807    1.99\n",
      "0_541    1.99\n",
      "0_1728   2.27\n",
      "0_1498   2.48\n",
      "0_898    2.54\n",
      "0_1840   2.56\n"
     ]
    }
   ],
   "source": [
    "#Regroupe les transactions par id de produit et fait la somme des transactions\n",
    "CA_produit = transactions2.groupby(by=\"id_prod\").sum()\n",
    "#Renomme la colonne price en CA\n",
    "CA_produit = CA_produit.rename(columns={\"price\":\"CA\"})\n",
    "#Drop la colonne categ\n",
    "CA_produit = CA_produit.drop(columns=[\"categ\"])\n",
    "#Affiche les résultats, top 10 par le haut et par le bas\n",
    "print(\"Tops:\")\n",
    "print(CA_produit.sort_values(by=\"CA\", ascending=False).head(10))\n",
    "print(\"Flops:\")\n",
    "print(CA_produit.sort_values(by=\"CA\", ascending=True).head(10))"
   ]
  },
  {
   "cell_type": "markdown",
   "metadata": {
    "id": "AaMSKASn5gXk"
   },
   "source": [
    "## III.f. Nombre de ventes par catégories de produit"
   ]
  },
  {
   "cell_type": "code",
   "execution_count": 29,
   "metadata": {
    "colab": {
     "base_uri": "https://localhost:8080/",
     "height": 0
    },
    "id": "mjb-zh8rAkup",
    "outputId": "0d97d915-3dad-4487-e049-fb38aa939d74"
   },
   "outputs": [
    {
     "name": "stdout",
     "output_type": "stream",
     "text": [
      "Nombre de ventes par catégories de produits\n",
      "   categ   sales\n",
      "0      0  415459\n",
      "1      1  227169\n",
      "2      2   36483\n"
     ]
    },
    {
     "data": {
      "text/plain": [
       "<function matplotlib.pyplot.show(close=None, block=None)>"
      ]
     },
     "execution_count": 29,
     "metadata": {},
     "output_type": "execute_result"
    },
    {
     "data": {
      "image/png": "[encoded data removed]",
      "text/plain": [
       "<Figure size 432x288 with 1 Axes>"
      ]
     },
     "metadata": {
      "needs_background": "light"
     },
     "output_type": "display_data"
    }
   ],
   "source": [
    "#Nombre de ventes par catégories de produits\n",
    "print(\"Nombre de ventes par catégories de produits\")\n",
    "#Compte le nombre d'occurences pour les valeurs de la colonne categ\n",
    "product_sales = pd.DataFrame(transactions2.categ.value_counts().reset_index().values, columns=[\"categ\", \"sales\"])\n",
    "#Organise les données par ordre décroissant\n",
    "product_sales = product_sales.sort_index(axis = 0, ascending=True)\n",
    "print(product_sales)\n",
    "\n",
    "#graphique à barres pour afficher les données\n",
    "product_sales.sales.plot.bar(color = [\"red\",\"green\",\"blue\"])\n",
    "plt.xticks(rotation=0)\n",
    "plt.title(\"Nombre de ventes par catégories de produits\")\n",
    "plt.xlabel(\"Catégories de produit\")\n",
    "plt.ylabel(\"Nombre de ventes\")\n",
    "for i in range(3):\n",
    "  plt.text(-0.15+i, product_sales.sales.iloc[0+i], str(round(product_sales.sales.iloc[0+i],2)))\n",
    "plt.show"
   ]
  },
  {
   "cell_type": "markdown",
   "metadata": {
    "id": "0piZEovG6LEt"
   },
   "source": [
    "## III.g. Chiffre d'affaire par catégorie de produits"
   ]
  },
  {
   "cell_type": "code",
   "execution_count": 30,
   "metadata": {
    "colab": {
     "base_uri": "https://localhost:8080/",
     "height": 0
    },
    "id": "a3THxUWz_6BU",
    "outputId": "4b72cd9c-197b-4c38-90bb-374816f06ad2"
   },
   "outputs": [
    {
     "data": {
      "text/plain": [
       "<function matplotlib.pyplot.show(close=None, block=None)>"
      ]
     },
     "execution_count": 30,
     "metadata": {},
     "output_type": "execute_result"
    },
    {
     "data": {
      "image/png": "[encoded data removed]",
      "text/plain": [
       "<Figure size 432x288 with 1 Axes>"
      ]
     },
     "metadata": {
      "needs_background": "light"
     },
     "output_type": "display_data"
    }
   ],
   "source": [
    "#Regroupe les transactions par catégories et fait la somme des transactions\n",
    "CA_produit = transactions2.groupby(by=\"categ\").sum()\n",
    "#Renomme la colonne price en CA\n",
    "CA_produit = CA_produit.rename(columns={\"price\":\"CA\"})\n",
    "#Converti en K€\n",
    "CA_produit.CA = CA_produit.CA/1000\n",
    "\n",
    "#Affiche le graphique des données\n",
    "CA_produit.CA.plot.bar(color = [\"red\",\"green\",\"blue\"])\n",
    "plt.xticks(rotation=0)\n",
    "plt.title(\"Chiffre d'affaire par catégorie de produits\")\n",
    "plt.xlabel(\"Catégories de produit\")\n",
    "plt.ylabel(\"Chiffre d'affaire en K€\")\n",
    "#Affiche les données sur le graph\n",
    "for i in range(3):\n",
    "  plt.text(-0.15+i, CA_produit.CA.iloc[0+i], str(round(CA_produit.CA.iloc[0+i]))+\" K€\")\n",
    "plt.show"
   ]
  },
  {
   "cell_type": "markdown",
   "metadata": {
    "id": "Vb-w2vJGuWH7"
   },
   "source": [
    "## III.h. Courbe de Lorenz"
   ]
  },
  {
   "cell_type": "code",
   "execution_count": 31,
   "metadata": {
    "colab": {
     "base_uri": "https://localhost:8080/"
    },
    "id": "S6JYhMt-uT77",
    "outputId": "01fb0949-404a-4a46-f9a6-7539fdf851d6"
   },
   "outputs": [
    {
     "name": "stdout",
     "output_type": "stream",
     "text": [
      "     client_id      price\n",
      "677     c_1609  324033.35\n",
      "4388    c_4958  289760.34\n",
      "6337    c_6714  153598.92\n",
      "2724    c_3454  113637.93\n",
      "2513    c_3263    5276.87\n",
      "634     c_1570    5271.62\n",
      "2108    c_2899    5214.05\n",
      "1268    c_2140    5208.82\n",
      "7006    c_7319    5155.77\n",
      "7715    c_7959    5085.45\n",
      "     client_id  price\n",
      "8151    c_8351   6.31\n",
      "7918    c_8140   8.30\n",
      "7889    c_8114   9.98\n",
      "1556     c_240  11.06\n",
      "4044    c_4648  11.20\n",
      "3855    c_4478  13.36\n",
      "5501    c_5962  13.99\n",
      "5589    c_6040  15.72\n",
      "5453    c_5919  15.98\n",
      "5354    c_5829  16.07\n",
      "\n",
      "Chiffre d'affaire total:\n",
      "11853728.68\n"
     ]
    }
   ],
   "source": [
    "#Calcule le chiffre d'affaire total\n",
    "CA_total = transactions2[\"price\"].sum()\n",
    "#Prépare un nouveau dataframe sans données superflues\n",
    "CA_client = transactions2.drop([\"id_prod\", \"date\", \"session_id\", \"categ\"], axis=1)\n",
    "#Regroupe les données par id de client et fait la somme des données\n",
    "CA_client = CA_client.groupby(by=[\"client_id\"], as_index=False).sum()\n",
    "\n",
    "print(CA_client.sort_values(by=\"price\", ascending=False).head(10))\n",
    "print(CA_client.sort_values(by=\"price\", ascending=True).head(10))\n",
    "print()\n",
    "print(\"Chiffre d'affaire total:\")\n",
    "print(round(CA_total,2))"
   ]
  },
  {
   "cell_type": "code",
   "execution_count": 32,
   "metadata": {
    "colab": {
     "base_uri": "https://localhost:8080/",
     "height": 0
    },
    "id": "xXWRN8VBOX5-",
    "outputId": "34c5e10d-59b7-4e04-d2a2-e9734bb8bed3"
   },
   "outputs": [
    {
     "data": {
      "text/plain": [
       "<function matplotlib.pyplot.show(close=None, block=None)>"
      ]
     },
     "execution_count": 32,
     "metadata": {},
     "output_type": "execute_result"
    },
    {
     "data": {
      "image/png": "[encoded data removed]",
      "text/plain": [
       "<Figure size 432x288 with 1 Axes>"
      ]
     },
     "metadata": {
      "needs_background": "light"
     },
     "output_type": "display_data"
    }
   ],
   "source": [
    "#Organise les données par ordre croissant\n",
    "CA_client = CA_client.sort_values(by=\"price\", ascending=True)\n",
    "#Créé la colonne cum_client qui correspond au nombre cumulé de client\n",
    "CA_client[\"cum_client\"]=1\n",
    "CA_client[\"cum_client\"] = CA_client[\"cum_client\"].cumsum()/len(CA_client)\n",
    "#Créé la colonne cum_price qui correspont au chiffre d'affaire cumulé que réprésente chaque client\n",
    "CA_client[\"cum_price\"] = CA_client[\"price\"].cumsum()/CA_total\n",
    "#Créé la courbe de Lorenz parfaite\n",
    "lorenz_x = [0,1]\n",
    "lorenz_y= [0,1]\n",
    "plt.plot(lorenz_x, lorenz_y, label=\"Ligne d'égalité parfaite\")\n",
    "#Créé la courbe de Lorenz réprésentant la répartition du chiffre d'affaire entre les clients\n",
    "plt.plot(CA_client[\"cum_client\"], CA_client[\"cum_price\"], label=\"Répartition du chiffre d'affaire\")\n",
    "plt.xlabel(\"Clients\")\n",
    "plt.ylabel(\"Chiffre d'affaire\")\n",
    "plt.title(\"Répartition du chiffre d'affaire entre les clients\")\n",
    "plt.legend(loc='best')\n",
    "plt.grid()\n",
    "plt.show"
   ]
  },
  {
   "cell_type": "code",
   "execution_count": 33,
   "metadata": {
    "colab": {
     "base_uri": "https://localhost:8080/",
     "height": 0
    },
    "id": "cXvXMPsO3X5N",
    "outputId": "eccf4479-5cfd-4020-cdad-710d1611edda"
   },
   "outputs": [
    {
     "data": {
      "text/plain": [
       "<function matplotlib.pyplot.show(close=None, block=None)>"
      ]
     },
     "execution_count": 33,
     "metadata": {},
     "output_type": "execute_result"
    },
    {
     "data": {
      "image/png": "[encoded data removed]",
      "text/plain": [
       "<Figure size 432x288 with 1 Axes>"
      ]
     },
     "metadata": {
      "needs_background": "light"
     },
     "output_type": "display_data"
    }
   ],
   "source": [
    "# Affiche le chiffre d'affaire par client sous forme de boîte à moustache sans les outliers\n",
    "plt.boxplot(CA_client.price,showfliers= False, vert = False)\n",
    "plt.show"
   ]
  },
  {
   "cell_type": "code",
   "execution_count": 34,
   "metadata": {
    "colab": {
     "base_uri": "https://localhost:8080/",
     "height": 0
    },
    "id": "hZ_Ea7kP04l-",
    "outputId": "c62fc161-fac4-4040-aa6a-0412a173a927"
   },
   "outputs": [
    {
     "data": {
      "text/plain": [
       "<function matplotlib.pyplot.show(close=None, block=None)>"
      ]
     },
     "execution_count": 34,
     "metadata": {},
     "output_type": "execute_result"
    },
    {
     "data": {
      "image/png": "[encoded data removed]",
      "text/plain": [
       "<Figure size 432x288 with 1 Axes>"
      ]
     },
     "metadata": {
      "needs_background": "light"
     },
     "output_type": "display_data"
    }
   ],
   "source": [
    "# Affiche le chiffre d'affaire par client sous forme de boîte à moustache avec les outliers\n",
    "plt.boxplot(CA_client.price, vert = False)\n",
    "plt.show\n"
   ]
  },
  {
   "cell_type": "code",
   "execution_count": 35,
   "metadata": {
    "colab": {
     "base_uri": "https://localhost:8080/"
    },
    "id": "iYcG-XvG3iMZ",
    "outputId": "850f32cd-d5bb-4a91-84ea-0f42e3ba31a1"
   },
   "outputs": [
    {
     "data": {
      "text/plain": [
       "3627.305"
      ]
     },
     "execution_count": 35,
     "metadata": {},
     "output_type": "execute_result"
    }
   ],
   "source": [
    "# Calcule les quartiles pour le CA par client ainsi que le min et le max\n",
    "quartiles = CA_client.price.quantile([0.25,0.5,0.75])\n",
    "etq = quartiles.iloc[2] - quartiles.iloc[0]\n",
    "min = quartiles.iloc[0] - (etq*1.5)\n",
    "max = quartiles.iloc[2] + (etq*1.5)\n",
    "max"
   ]
  },
  {
   "cell_type": "markdown",
   "metadata": {
    "id": "FzvDIer8eXfT"
   },
   "source": [
    "# **IV. Demandes de Julie**"
   ]
  },
  {
   "cell_type": "markdown",
   "metadata": {
    "id": "yWryJ_rDBHG4"
   },
   "source": [
    "## IV.a. Lien entre le genre d’un client et les catégories des livres achetés"
   ]
  },
  {
   "cell_type": "markdown",
   "metadata": {},
   "source": [
    "Hypothèse H0 : Les deux variables sont indépendantes"
   ]
  },
  {
   "cell_type": "markdown",
   "metadata": {},
   "source": [
    "On réalise un test du χ2 d'indépendance."
   ]
  },
  {
   "cell_type": "markdown",
   "metadata": {},
   "source": [
    "On commence par créer un tableau de contingence qui donne le rapport entre les 2 paramètres observés."
   ]
  },
  {
   "cell_type": "code",
   "execution_count": 36,
   "metadata": {
    "colab": {
     "base_uri": "https://localhost:8080/",
     "height": 0
    },
    "id": "7PpumGl_FQnb",
    "outputId": "b58b847f-62e0-4800-97d7-633ece5517eb"
   },
   "outputs": [
    {
     "data": {
      "text/html": [
       "<div>\n",
       "<style scoped>\n",
       "    .dataframe tbody tr th:only-of-type {\n",
       "        vertical-align: middle;\n",
       "    }\n",
       "\n",
       "    .dataframe tbody tr th {\n",
       "        vertical-align: top;\n",
       "    }\n",
       "\n",
       "    .dataframe thead th {\n",
       "        text-align: right;\n",
       "    }\n",
       "</style>\n",
       "<table border=\"1\" class=\"dataframe\">\n",
       "  <thead>\n",
       "    <tr style=\"text-align: right;\">\n",
       "      <th>sex</th>\n",
       "      <th>f</th>\n",
       "      <th>m</th>\n",
       "      <th>All</th>\n",
       "    </tr>\n",
       "    <tr>\n",
       "      <th>categ</th>\n",
       "      <th></th>\n",
       "      <th></th>\n",
       "      <th></th>\n",
       "    </tr>\n",
       "  </thead>\n",
       "  <tbody>\n",
       "    <tr>\n",
       "      <th>0</th>\n",
       "      <td>4119</td>\n",
       "      <td>3773</td>\n",
       "      <td>7892</td>\n",
       "    </tr>\n",
       "    <tr>\n",
       "      <th>1</th>\n",
       "      <td>4391</td>\n",
       "      <td>4058</td>\n",
       "      <td>8449</td>\n",
       "    </tr>\n",
       "    <tr>\n",
       "      <th>2</th>\n",
       "      <td>1839</td>\n",
       "      <td>1754</td>\n",
       "      <td>3593</td>\n",
       "    </tr>\n",
       "    <tr>\n",
       "      <th>All</th>\n",
       "      <td>10349</td>\n",
       "      <td>9585</td>\n",
       "      <td>19934</td>\n",
       "    </tr>\n",
       "  </tbody>\n",
       "</table>\n",
       "</div>"
      ],
      "text/plain": [
       "sex        f     m    All\n",
       "categ                    \n",
       "0       4119  3773   7892\n",
       "1       4391  4058   8449\n",
       "2       1839  1754   3593\n",
       "All    10349  9585  19934"
      ]
     },
     "execution_count": 36,
     "metadata": {},
     "output_type": "execute_result"
    }
   ],
   "source": [
    "# Prépare les donnés de catégories par genre en supprimant les colonnes inutiles\n",
    "categ_par_genre = transactions4_nootl.drop(columns=[\"id_prod\",\"date\",\"session_id\",\"birth\",\"age\",\"price\"])\n",
    "# Drop les doublons pour ne garder qu'une seule instance d'un client pour un achat dans une catégorie\n",
    "categ_par_genre = categ_par_genre.drop_duplicates(keep=\"first\")\n",
    "# Créé une table de contingence qui crois les données de sex et d'achat par catégorie\n",
    "categ_par_genre2 = pd.crosstab(categ_par_genre[\"categ\"], categ_par_genre[\"sex\"], margins=True)\n",
    "categ_par_genre3 = pd.crosstab(categ_par_genre[\"categ\"], categ_par_genre[\"sex\"], margins=False)\n",
    "categ_par_genre2"
   ]
  },
  {
   "cell_type": "markdown",
   "metadata": {},
   "source": [
    "On cherche à comparer l'écart entre notre distribution et une distribution théorique qu'on obtiendrait si les 2 paramètres étaient indépendants."
   ]
  },
  {
   "cell_type": "markdown",
   "metadata": {},
   "source": [
    "La valeur d'une case de la distribution théorique s'obtient en multipliant le total de la ligne par celui de la colonne et en divisant par le total général."
   ]
  },
  {
   "cell_type": "code",
   "execution_count": 37,
   "metadata": {},
   "outputs": [
    {
     "data": {
      "text/html": [
       "<div>\n",
       "<style scoped>\n",
       "    .dataframe tbody tr th:only-of-type {\n",
       "        vertical-align: middle;\n",
       "    }\n",
       "\n",
       "    .dataframe tbody tr th {\n",
       "        vertical-align: top;\n",
       "    }\n",
       "\n",
       "    .dataframe thead th {\n",
       "        text-align: right;\n",
       "    }\n",
       "</style>\n",
       "<table border=\"1\" class=\"dataframe\">\n",
       "  <thead>\n",
       "    <tr style=\"text-align: right;\">\n",
       "      <th></th>\n",
       "      <th>categ0</th>\n",
       "      <th>categ1</th>\n",
       "      <th>categ2</th>\n",
       "      <th>All</th>\n",
       "    </tr>\n",
       "  </thead>\n",
       "  <tbody>\n",
       "    <tr>\n",
       "      <th>f</th>\n",
       "      <td>4097</td>\n",
       "      <td>4386</td>\n",
       "      <td>1865</td>\n",
       "      <td>10349</td>\n",
       "    </tr>\n",
       "    <tr>\n",
       "      <th>m</th>\n",
       "      <td>3795</td>\n",
       "      <td>4063</td>\n",
       "      <td>1728</td>\n",
       "      <td>9585</td>\n",
       "    </tr>\n",
       "    <tr>\n",
       "      <th>All</th>\n",
       "      <td>7892</td>\n",
       "      <td>8449</td>\n",
       "      <td>3593</td>\n",
       "      <td>19934</td>\n",
       "    </tr>\n",
       "  </tbody>\n",
       "</table>\n",
       "</div>"
      ],
      "text/plain": [
       "     categ0  categ1  categ2    All\n",
       "f      4097    4386    1865  10349\n",
       "m      3795    4063    1728   9585\n",
       "All    7892    8449    3593  19934"
      ]
     },
     "execution_count": 37,
     "metadata": {},
     "output_type": "execute_result"
    }
   ],
   "source": [
    "#Créé un Dataframe avec la distribution théorique.\n",
    "data = {'categ0':[4097, 3795, 7892],'categ1':[4386, 4063, 8449], 'categ2':[1865, 1728, 3593], 'All':[10349, 9585, 19934]}\n",
    "pd.DataFrame(data=data, index=[\"f\",\"m\", \"All\"])"
   ]
  },
  {
   "cell_type": "markdown",
   "metadata": {},
   "source": [
    "On réalise ensuite le test du Chi2 qui nous donne une pValue dont la valeur nous indique si on rejetera ou non l'hypothèse H0. Si la pValue est inférieur à notre taux de risque alors on rejette l'hypothèse H0 au profit de l'hypothèse alternative, dans le cas contraire on conserve l'hypothèse H0."
   ]
  },
  {
   "cell_type": "code",
   "execution_count": 38,
   "metadata": {
    "colab": {
     "base_uri": "https://localhost:8080/"
    },
    "id": "UtMxpMX_iFdN",
    "outputId": "732777fd-e305-473c-fcdd-58f7c3219f13"
   },
   "outputs": [
    {
     "name": "stdout",
     "output_type": "stream",
     "text": [
      "Satistique chi2 :  1.0247280956599478\n",
      "P value : 0.9846575173150158\n",
      "Degrès de liberté : 6\n",
      "st_p>=0.05 : True\n"
     ]
    }
   ],
   "source": [
    "# Réalise le test du Chi2 pour vérifier si les variables sex et catégorie de produit acheté sont indépendantes ou non\n",
    "st_chi2, st_p, st_dof, st_exp = st.chi2_contingency(categ_par_genre2)\n",
    "print(\"Satistique chi2 : \",st_chi2)\n",
    "print(\"P value :\",st_p)\n",
    "print(\"Degrès de liberté :\",st_dof)\n",
    "# Compare la Pvalue au seuil de 5%\n",
    "print(\"st_p>=0.05 :\",st_p>=0.05)"
   ]
  },
  {
   "cell_type": "markdown",
   "metadata": {
    "id": "5pUc6sB6CieX"
   },
   "source": [
    "La Pvaleur est supérieure à 0.05 donc on ne rejette pas l'hypothèse H0 avec un niveau de risque de 5%, les variables sont indépendantes."
   ]
  },
  {
   "cell_type": "code",
   "execution_count": 39,
   "metadata": {
    "colab": {
     "base_uri": "https://localhost:8080/",
     "height": 0
    },
    "id": "lJtXv6-U1_q-",
    "outputId": "fa95f7eb-c1ae-425d-bda3-7e27ea50fa5d"
   },
   "outputs": [
    {
     "data": {
      "image/png": "[encoded data removed]",
      "text/plain": [
       "<Figure size 720x360 with 1 Axes>"
      ]
     },
     "metadata": {
      "needs_background": "light"
     },
     "output_type": "display_data"
    }
   ],
   "source": [
    "# Nombre de barres pour le graph\n",
    "N=3\n",
    "# Données pour les barres\n",
    "homme = categ_par_genre3.m\n",
    "femme = categ_par_genre3.f\n",
    "# Position des barres sur l'axe des abscisses\n",
    "ind = np.arange(N)\n",
    "# Règle la taille de la figure\n",
    "plt.figure(figsize=(10,5))\n",
    "# Règle la largeur des barres\n",
    "width = 0.3\n",
    "# Créé les barres\n",
    "h=plt.bar(ind, homme , width, label='Achat par catégorie chez les hommes')\n",
    "f=plt.bar(ind + width, femme, width, label='Achat par catégorie chez les femmes')\n",
    "\n",
    "# Affiche le nom des axes\n",
    "plt.xlabel('Catégories de produit')\n",
    "plt.ylabel(\"Nombres d'achats par catégories\")\n",
    "#Affiche le titre\n",
    "plt.title('Lien entre le genre d’un client et les catégories des livres achetés')\n",
    "# Affiche les noms des ticks de l'axe des abscisses\n",
    "plt.xticks(ind + width / 2, ('Catégorie 0', 'Catégorie 1', 'Catégorie 2'))\n",
    "# Affiche la légende\n",
    "plt.legend(loc='best')\n",
    "\n",
    "for i in range(3):\n",
    "  plt.text(-0.1+i, homme.iloc[0+i], str(homme.iloc[0+i]))\n",
    "  plt.text(0.2+i, femme.iloc[0+i], str(femme.iloc[0+i]))\n",
    "#Faire des tests entre variables\n",
    "plt.show()"
   ]
  },
  {
   "cell_type": "markdown",
   "metadata": {
    "id": "YuE95XBvBMpc"
   },
   "source": [
    "## IV.b. Total des achats par tranches d'âge"
   ]
  },
  {
   "cell_type": "code",
   "execution_count": 40,
   "metadata": {
    "colab": {
     "base_uri": "https://localhost:8080/",
     "height": 0
    },
    "id": "5jeqmykevRSk",
    "outputId": "b7b49765-85e5-4985-fee8-351c868d02e3"
   },
   "outputs": [
    {
     "data": {
      "image/png": "[encoded data removed]",
      "text/plain": [
       "<Figure size 432x288 with 1 Axes>"
      ]
     },
     "metadata": {
      "needs_background": "light"
     },
     "output_type": "display_data"
    }
   ],
   "source": [
    "#Regroupe les transactions par groupe d'age et fait leur somme\n",
    "total_achat_age = transactions4_nootl\n",
    "total_achat_age = total_achat_age[\"price\"].groupby(pd.cut(total_achat_age.age, age_groups)).sum()\n",
    "total_achat_age = total_achat_age/1000000\n",
    "#affiche les données sous forme de diagramme à barres\n",
    "total_achat_age.plot.bar()\n",
    "plt.xlabel(\"Tranches d'age\")\n",
    "plt.ylabel(\"CA en millions\")\n",
    "plt.title(\"Total des achats en million par tranches d'âge\")\n",
    "#Affiche les données sur le graph\n",
    "for i in range(7):\n",
    "  plt.text(-0.20+i, total_achat_age.iloc[0+i]+0.02, str(round(total_achat_age.iloc[0+i],2)))\n",
    "plt.show()"
   ]
  },
  {
   "cell_type": "code",
   "execution_count": 41,
   "metadata": {
    "id": "SlZ_rasIVsMV"
   },
   "outputs": [],
   "source": [
    "# Prépare un Dataframe contenant uniquement les données id_client, age et price\n",
    "tachat_perage = transactions4_nootl.drop(columns=[\"id_prod\",\"date\",\"session_id\", \"sex\", \"categ\", \"birth\"])\n",
    "# Groupby client_id et age pour avoir le total des achat par client et leur age\n",
    "tachat_perage = tachat_perage.groupby([\"client_id\", \"age\"], as_index=False)[\"price\"].sum()\n",
    "tachat_perage = tachat_perage.rename(columns={\"price\":\"total_achat\"})"
   ]
  },
  {
   "cell_type": "markdown",
   "metadata": {},
   "source": [
    "H0 : le jeu de données suit une loi normale"
   ]
  },
  {
   "cell_type": "code",
   "execution_count": 42,
   "metadata": {
    "colab": {
     "base_uri": "https://localhost:8080/"
    },
    "id": "zzP4L7aNWstQ",
    "outputId": "43d09c64-7a84-47fa-bba9-c5c77c390a10"
   },
   "outputs": [
    {
     "data": {
      "text/plain": [
       "KstestResult(statistic=0.9999999998604823, pvalue=0.0)"
      ]
     },
     "execution_count": 42,
     "metadata": {},
     "output_type": "execute_result"
    }
   ],
   "source": [
    "#Test de Kolmogorov Smirnov pour tester l'adéquation à une loi normale\n",
    "x -= np.mean(x)\n",
    "x /= np.std(x)\n",
    "st.kstest(tachat_perage[\"total_achat\"], 'norm')"
   ]
  },
  {
   "cell_type": "markdown",
   "metadata": {
    "id": "zBLwPwyyZ8U2"
   },
   "source": [
    "La Pvalue est inférieure à 0.05 donc on rejette l'hypothèse H0 d'adéquation à une loi normale."
   ]
  },
  {
   "cell_type": "code",
   "execution_count": 43,
   "metadata": {
    "id": "aYa42o9Uaa5t"
   },
   "outputs": [],
   "source": [
    "# Créé une table par tranche d'age pour le test de Kruskal\n",
    "tachat_moins18 = tachat_perage.loc[tachat_perage.age<=18]\n",
    "tachat18_25 = tachat_perage.loc[(tachat_perage.age>18) & (tachat_perage.age<=25)]\n",
    "tachat25_35 = tachat_perage.loc[(tachat_perage.age>25) & (tachat_perage.age<=35)]\n",
    "tachat35_45 = tachat_perage.loc[(tachat_perage.age>35) & (tachat_perage.age<=45)]\n",
    "tachat45_55 = tachat_perage.loc[(tachat_perage.age>45) & (tachat_perage.age<=55)]\n",
    "tachat55_65 = tachat_perage.loc[(tachat_perage.age>55) & (tachat_perage.age<=65)]\n",
    "tachat_65plus = tachat_perage.loc[tachat_perage.age>65]"
   ]
  },
  {
   "cell_type": "markdown",
   "metadata": {},
   "source": [
    "Pour tester la corrélation entre 1 variable qualitative et une variable quantitative on peut réaliser un test d'Anova."
   ]
  },
  {
   "cell_type": "markdown",
   "metadata": {},
   "source": [
    "H0 : Les moyennes des différents groupes sont égales, il n'y a donc pas de corrélation."
   ]
  },
  {
   "cell_type": "code",
   "execution_count": 44,
   "metadata": {},
   "outputs": [
    {
     "name": "stdout",
     "output_type": "stream",
     "text": [
      "Pvalue :  4.681514746200481e-113\n"
     ]
    },
    {
     "data": {
      "text/plain": [
       "True"
      ]
     },
     "execution_count": 44,
     "metadata": {},
     "output_type": "execute_result"
    }
   ],
   "source": [
    "# Réalise le test d'Anova\n",
    "Fstat, pvalue = st.f_oneway(tachat_moins18.total_achat, tachat18_25.total_achat, tachat25_35.total_achat, tachat35_45.total_achat, tachat45_55.total_achat, tachat55_65.total_achat, tachat_65plus.total_achat)\n",
    "print(\"Pvalue : \", pvalue)\n",
    "pvalue<=0.05"
   ]
  },
  {
   "cell_type": "markdown",
   "metadata": {},
   "source": [
    "Notre pValue est inférieure à 0.05, on peut donc rejetter l'hypothèse H0 et conclure à l'existence d'une corrélation entre les variables."
   ]
  },
  {
   "cell_type": "markdown",
   "metadata": {},
   "source": [
    "Etant donné que nos 2 jeux de données ne suivent pas une loi normale, on préfèrera le test de Kruskal, non paramétrique, à la place du test d'Anova."
   ]
  },
  {
   "cell_type": "markdown",
   "metadata": {},
   "source": [
    "Hypothèse H0 : Les médianes de tous les groupes sont proches, il n'y a donc pas de relation entre les variables."
   ]
  },
  {
   "cell_type": "code",
   "execution_count": 45,
   "metadata": {
    "colab": {
     "base_uri": "https://localhost:8080/"
    },
    "id": "L62BsMLNasTR",
    "outputId": "5e201d84-6558-4d24-e79a-124398f8a46b"
   },
   "outputs": [
    {
     "name": "stdout",
     "output_type": "stream",
     "text": [
      "Pvalue :  8.106618551113491e-99\n"
     ]
    },
    {
     "data": {
      "text/plain": [
       "True"
      ]
     },
     "execution_count": 45,
     "metadata": {},
     "output_type": "execute_result"
    }
   ],
   "source": [
    "# Réalise le test de Kruskal\n",
    "Fstat, pvalue = st.kruskal(tachat_moins18.total_achat, tachat18_25.total_achat, tachat25_35.total_achat, tachat35_45.total_achat, tachat45_55.total_achat, tachat55_65.total_achat, tachat_65plus.total_achat)\n",
    "print(\"Pvalue : \", pvalue)\n",
    "pvalue<=0.05"
   ]
  },
  {
   "cell_type": "markdown",
   "metadata": {
    "id": "lnCmq3AnbHyf"
   },
   "source": [
    "La Pvalue est inférieure à 0.05 donc on rejette l'hypothèse H0, les moyennes ne sont pas égales, il y a donc une relation entre les variables."
   ]
  },
  {
   "cell_type": "markdown",
   "metadata": {},
   "source": [
    "On peut aussi considérer les 2 paramètres comme étant quantitatif, on tente alors un calcule du coefficient de corrélation de Spearman pour tester la corrélation entre les 2 paramètres."
   ]
  },
  {
   "cell_type": "code",
   "execution_count": 46,
   "metadata": {},
   "outputs": [
    {
     "data": {
      "image/png": "[encoded data removed]",
      "text/plain": [
       "<Figure size 432x288 with 1 Axes>"
      ]
     },
     "metadata": {
      "needs_background": "light"
     },
     "output_type": "display_data"
    }
   ],
   "source": [
    "# Affiche le total des achats par l'age pour chaque client sous forme de nuage de points\n",
    "plt.scatter(tachat_perage.age, tachat_perage.total_achat)\n",
    "plt.xlabel(\"Age\")\n",
    "plt.ylabel(\"Total des achats\")\n",
    "plt.title(\"Total des achats par age\")\n",
    "plt.show()"
   ]
  },
  {
   "cell_type": "markdown",
   "metadata": {},
   "source": [
    "Sur le nuage de points le total des achats semble diminuer quand l'age augmente, on effectue une régréssion linéaire pour voir si une corrélation pourrait exister entre les deux paramètres."
   ]
  },
  {
   "cell_type": "code",
   "execution_count": 47,
   "metadata": {},
   "outputs": [
    {
     "data": {
      "image/png": "[encoded data removed]",
      "text/plain": [
       "<Figure size 432x288 with 1 Axes>"
      ]
     },
     "metadata": {
      "needs_background": "light"
     },
     "output_type": "display_data"
    },
    {
     "name": "stdout",
     "output_type": "stream",
     "text": [
      "-9.27152768284347\n"
     ]
    }
   ],
   "source": [
    "# Calcule la moyenne du total des achats par age\n",
    "tachat_perage2 = tachat_perage.groupby(by=\"age\", as_index=False).median()\n",
    "# Calcule la régression linéaire entre total des achats et age\n",
    "slope, intercept, r_value, p_value, std_err = st.linregress(tachat_perage2.age, tachat_perage2.total_achat)\n",
    "regression_lineaire = (slope*tachat_perage2.age)+intercept\n",
    "# Affiche le total des achats par l'age pour chaque client sous forme de nuage de points et la regression linéaire\n",
    "plt.scatter(tachat_perage2.age, tachat_perage2.total_achat)\n",
    "plt.plot(tachat_perage2.age, regression_lineaire, color=\"red\")\n",
    "plt.xlabel(\"Age\")\n",
    "plt.ylabel(\"Total des achats\")\n",
    "plt.title(\"Moyenne du total des achats par age\")\n",
    "plt.show()\n",
    "print(slope)"
   ]
  },
  {
   "cell_type": "code",
   "execution_count": 48,
   "metadata": {},
   "outputs": [
    {
     "data": {
      "text/html": [
       "<div>\n",
       "<style scoped>\n",
       "    .dataframe tbody tr th:only-of-type {\n",
       "        vertical-align: middle;\n",
       "    }\n",
       "\n",
       "    .dataframe tbody tr th {\n",
       "        vertical-align: top;\n",
       "    }\n",
       "\n",
       "    .dataframe thead th {\n",
       "        text-align: right;\n",
       "    }\n",
       "</style>\n",
       "<table border=\"1\" class=\"dataframe\">\n",
       "  <thead>\n",
       "    <tr style=\"text-align: right;\">\n",
       "      <th></th>\n",
       "      <th>age</th>\n",
       "      <th>total_achat</th>\n",
       "    </tr>\n",
       "  </thead>\n",
       "  <tbody>\n",
       "    <tr>\n",
       "      <th>0</th>\n",
       "      <td>18</td>\n",
       "      <td>1193.450</td>\n",
       "    </tr>\n",
       "    <tr>\n",
       "      <th>1</th>\n",
       "      <td>19</td>\n",
       "      <td>967.070</td>\n",
       "    </tr>\n",
       "    <tr>\n",
       "      <th>2</th>\n",
       "      <td>20</td>\n",
       "      <td>1011.130</td>\n",
       "    </tr>\n",
       "    <tr>\n",
       "      <th>3</th>\n",
       "      <td>21</td>\n",
       "      <td>1223.720</td>\n",
       "    </tr>\n",
       "    <tr>\n",
       "      <th>4</th>\n",
       "      <td>22</td>\n",
       "      <td>999.130</td>\n",
       "    </tr>\n",
       "    <tr>\n",
       "      <th>...</th>\n",
       "      <td>...</td>\n",
       "      <td>...</td>\n",
       "    </tr>\n",
       "    <tr>\n",
       "      <th>71</th>\n",
       "      <td>89</td>\n",
       "      <td>562.200</td>\n",
       "    </tr>\n",
       "    <tr>\n",
       "      <th>72</th>\n",
       "      <td>90</td>\n",
       "      <td>666.565</td>\n",
       "    </tr>\n",
       "    <tr>\n",
       "      <th>73</th>\n",
       "      <td>91</td>\n",
       "      <td>585.510</td>\n",
       "    </tr>\n",
       "    <tr>\n",
       "      <th>74</th>\n",
       "      <td>92</td>\n",
       "      <td>520.960</td>\n",
       "    </tr>\n",
       "    <tr>\n",
       "      <th>75</th>\n",
       "      <td>93</td>\n",
       "      <td>842.870</td>\n",
       "    </tr>\n",
       "  </tbody>\n",
       "</table>\n",
       "<p>76 rows × 2 columns</p>\n",
       "</div>"
      ],
      "text/plain": [
       "    age  total_achat\n",
       "0    18     1193.450\n",
       "1    19      967.070\n",
       "2    20     1011.130\n",
       "3    21     1223.720\n",
       "4    22      999.130\n",
       "..  ...          ...\n",
       "71   89      562.200\n",
       "72   90      666.565\n",
       "73   91      585.510\n",
       "74   92      520.960\n",
       "75   93      842.870\n",
       "\n",
       "[76 rows x 2 columns]"
      ]
     },
     "execution_count": 48,
     "metadata": {},
     "output_type": "execute_result"
    }
   ],
   "source": [
    "tachat_perage2"
   ]
  },
  {
   "cell_type": "markdown",
   "metadata": {},
   "source": [
    "Notre régression linéaire indique une potentielle corrélation entre les 2 paramètres, on cherche à vérifier cela au travers de tests statistiques."
   ]
  },
  {
   "cell_type": "markdown",
   "metadata": {},
   "source": [
    "On tente de calculer le coefficient de Pearson."
   ]
  },
  {
   "cell_type": "markdown",
   "metadata": {},
   "source": [
    "Hypothèse H0 : Les données ne sont pas corrélées."
   ]
  },
  {
   "cell_type": "code",
   "execution_count": 49,
   "metadata": {},
   "outputs": [
    {
     "data": {
      "text/plain": [
       "(-0.1883761792721943, 1.7101053363389715e-69)"
      ]
     },
     "execution_count": 49,
     "metadata": {},
     "output_type": "execute_result"
    }
   ],
   "source": [
    "#Coefficient de Pearson\n",
    "st.pearsonr(tachat_perage.age,tachat_perage.total_achat)"
   ]
  },
  {
   "cell_type": "markdown",
   "metadata": {},
   "source": [
    "La pValue est inférieure à 0.05, on peut donc rejeter l'hypothèse H0 et conclure à une corrélation entre les 2 paramètres."
   ]
  },
  {
   "cell_type": "markdown",
   "metadata": {},
   "source": [
    "Le coefficient de Pearson présume que les données sont normalement distribuées, hors ici ce n'est pas le cas, on préférera donc l'utilisation du coefficient de Spearman."
   ]
  },
  {
   "cell_type": "markdown",
   "metadata": {},
   "source": [
    "Hypothèse H0 : Les données ne sont pas corrélées."
   ]
  },
  {
   "cell_type": "code",
   "execution_count": 50,
   "metadata": {},
   "outputs": [
    {
     "data": {
      "text/plain": [
       "SpearmanrResult(correlation=-0.18513759917564593, pvalue=3.797551375418047e-67)"
      ]
     },
     "execution_count": 50,
     "metadata": {},
     "output_type": "execute_result"
    }
   ],
   "source": [
    "#Coefficient de Spearman\n",
    "st.spearmanr(tachat_perage.age,tachat_perage.total_achat)"
   ]
  },
  {
   "cell_type": "markdown",
   "metadata": {},
   "source": [
    "On obtient une pValue inférieure à 0.05, on rejette donc l'hypothèse H0, les données sont corrélées."
   ]
  },
  {
   "cell_type": "markdown",
   "metadata": {},
   "source": [
    "Une corrélation négative avec le coefficient de Spearman indique que lorsque l'un des paramètres augmente, l'autre diminue."
   ]
  },
  {
   "cell_type": "markdown",
   "metadata": {
    "id": "RnRurVqJBQh4"
   },
   "source": [
    "## IV.c. Fréquence d'achat par tranches d'âge"
   ]
  },
  {
   "cell_type": "code",
   "execution_count": 51,
   "metadata": {
    "colab": {
     "base_uri": "https://localhost:8080/",
     "height": 0
    },
    "id": "Pgs1oqoHLcyH",
    "outputId": "1432b622-cce4-4669-c010-47b8952d3746"
   },
   "outputs": [
    {
     "name": "stdout",
     "output_type": "stream",
     "text": [
      "age\n",
      "(1, 18]       631.208333\n",
      "(18, 25]     1344.333333\n",
      "(25, 35]     5120.791667\n",
      "(35, 45]     8763.458333\n",
      "(45, 55]     5479.083333\n",
      "(55, 65]     2620.625000\n",
      "(65, 100]    2393.708333\n",
      "Name: price, dtype: float64\n"
     ]
    },
    {
     "data": {
      "text/plain": [
       "<function matplotlib.pyplot.show(close=None, block=None)>"
      ]
     },
     "execution_count": 51,
     "metadata": {},
     "output_type": "execute_result"
    },
    {
     "data": {
      "image/png": "[encoded data removed]",
      "text/plain": [
       "<Figure size 432x288 with 1 Axes>"
      ]
     },
     "metadata": {
      "needs_background": "light"
     },
     "output_type": "display_data"
    }
   ],
   "source": [
    "#Regroupe les données par tranches d'age, compte le nombre de transactions et le divise par le nombre de mois\n",
    "freq_achat_age = transactions4_nootl[\"price\"].groupby(pd.cut(transactions4_nootl.age, age_groups)).count()/24\n",
    "print(freq_achat_age)\n",
    "#Affiche le diagramme à barres\n",
    "freq_achat_age.plot.bar()\n",
    "plt.xlabel(\"Tranches d'age\")\n",
    "plt.ylabel(\"Nombre moyen d'achats par mois\")\n",
    "plt.title(\"Fréquence d'achat par tranches d'âge\")\n",
    "#Affiche les données sur le graph\n",
    "for i in range(7):\n",
    "  plt.text(-0.25+i, freq_achat_age.iloc[0+i], str(round(freq_achat_age.iloc[0+i],2)))\n",
    "plt.show"
   ]
  },
  {
   "cell_type": "code",
   "execution_count": 52,
   "metadata": {
    "colab": {
     "base_uri": "https://localhost:8080/",
     "height": 0
    },
    "id": "4L9Q0voNPnJq",
    "outputId": "282fc413-c8dc-4955-d0b8-b0ae4b947fa9"
   },
   "outputs": [
    {
     "data": {
      "text/html": [
       "<div>\n",
       "<style scoped>\n",
       "    .dataframe tbody tr th:only-of-type {\n",
       "        vertical-align: middle;\n",
       "    }\n",
       "\n",
       "    .dataframe tbody tr th {\n",
       "        vertical-align: top;\n",
       "    }\n",
       "\n",
       "    .dataframe thead th {\n",
       "        text-align: right;\n",
       "    }\n",
       "</style>\n",
       "<table border=\"1\" class=\"dataframe\">\n",
       "  <thead>\n",
       "    <tr style=\"text-align: right;\">\n",
       "      <th></th>\n",
       "      <th>client_id</th>\n",
       "      <th>sex</th>\n",
       "      <th>birth</th>\n",
       "      <th>age</th>\n",
       "      <th>frequence_achat</th>\n",
       "    </tr>\n",
       "  </thead>\n",
       "  <tbody>\n",
       "    <tr>\n",
       "      <th>0</th>\n",
       "      <td>c_4410</td>\n",
       "      <td>f</td>\n",
       "      <td>1967</td>\n",
       "      <td>55</td>\n",
       "      <td>3.166667</td>\n",
       "    </tr>\n",
       "    <tr>\n",
       "      <th>1</th>\n",
       "      <td>c_7839</td>\n",
       "      <td>f</td>\n",
       "      <td>1975</td>\n",
       "      <td>47</td>\n",
       "      <td>1.500000</td>\n",
       "    </tr>\n",
       "    <tr>\n",
       "      <th>2</th>\n",
       "      <td>c_1699</td>\n",
       "      <td>f</td>\n",
       "      <td>1984</td>\n",
       "      <td>38</td>\n",
       "      <td>0.625000</td>\n",
       "    </tr>\n",
       "    <tr>\n",
       "      <th>3</th>\n",
       "      <td>c_5961</td>\n",
       "      <td>f</td>\n",
       "      <td>1962</td>\n",
       "      <td>60</td>\n",
       "      <td>3.166667</td>\n",
       "    </tr>\n",
       "    <tr>\n",
       "      <th>4</th>\n",
       "      <td>c_5320</td>\n",
       "      <td>m</td>\n",
       "      <td>1943</td>\n",
       "      <td>79</td>\n",
       "      <td>1.000000</td>\n",
       "    </tr>\n",
       "    <tr>\n",
       "      <th>...</th>\n",
       "      <td>...</td>\n",
       "      <td>...</td>\n",
       "      <td>...</td>\n",
       "      <td>...</td>\n",
       "      <td>...</td>\n",
       "    </tr>\n",
       "    <tr>\n",
       "      <th>8591</th>\n",
       "      <td>c_7920</td>\n",
       "      <td>m</td>\n",
       "      <td>1956</td>\n",
       "      <td>66</td>\n",
       "      <td>4.291667</td>\n",
       "    </tr>\n",
       "    <tr>\n",
       "      <th>8592</th>\n",
       "      <td>c_7403</td>\n",
       "      <td>f</td>\n",
       "      <td>1970</td>\n",
       "      <td>52</td>\n",
       "      <td>6.833333</td>\n",
       "    </tr>\n",
       "    <tr>\n",
       "      <th>8593</th>\n",
       "      <td>c_5119</td>\n",
       "      <td>m</td>\n",
       "      <td>1974</td>\n",
       "      <td>48</td>\n",
       "      <td>1.958333</td>\n",
       "    </tr>\n",
       "    <tr>\n",
       "      <th>8594</th>\n",
       "      <td>c_5643</td>\n",
       "      <td>f</td>\n",
       "      <td>1968</td>\n",
       "      <td>54</td>\n",
       "      <td>5.250000</td>\n",
       "    </tr>\n",
       "    <tr>\n",
       "      <th>8595</th>\n",
       "      <td>c_84</td>\n",
       "      <td>f</td>\n",
       "      <td>1982</td>\n",
       "      <td>40</td>\n",
       "      <td>1.166667</td>\n",
       "    </tr>\n",
       "  </tbody>\n",
       "</table>\n",
       "<p>8596 rows × 5 columns</p>\n",
       "</div>"
      ],
      "text/plain": [
       "     client_id sex  birth  age  frequence_achat\n",
       "0       c_4410   f   1967   55         3.166667\n",
       "1       c_7839   f   1975   47         1.500000\n",
       "2       c_1699   f   1984   38         0.625000\n",
       "3       c_5961   f   1962   60         3.166667\n",
       "4       c_5320   m   1943   79         1.000000\n",
       "...        ...  ..    ...  ...              ...\n",
       "8591    c_7920   m   1956   66         4.291667\n",
       "8592    c_7403   f   1970   52         6.833333\n",
       "8593    c_5119   m   1974   48         1.958333\n",
       "8594    c_5643   f   1968   54         5.250000\n",
       "8595      c_84   f   1982   40         1.166667\n",
       "\n",
       "[8596 rows x 5 columns]"
      ]
     },
     "execution_count": 52,
     "metadata": {},
     "output_type": "execute_result"
    }
   ],
   "source": [
    "# Compte le nombre d'achat par client et le divise par le nombre de mois\n",
    "freqs_achat = transactions4_nootl.client_id.value_counts()/24\n",
    "# Converti les données en dataframe\n",
    "freqs_achat = pd.DataFrame(freqs_achat)\n",
    "# Renomme la colonne clien_id\n",
    "freqs_achat = freqs_achat.rename(columns={\"client_id\":\"frequence_achat\"})\n",
    "# Créé la colonne client_id\n",
    "freqs_achat[\"client_id\"] = freqs_achat.index\n",
    "# Jointure entre freqs_achat et customers pour avoir la liste des clients et leur fréquence d'achat par mois\n",
    "freqs_achat_perage = pd.merge(customers, freqs_achat, on=\"client_id\", how=\"inner\")\n",
    "freqs_achat_perage"
   ]
  },
  {
   "cell_type": "code",
   "execution_count": 53,
   "metadata": {
    "colab": {
     "base_uri": "https://localhost:8080/"
    },
    "id": "eoBoAjq8VFsp",
    "outputId": "200cea27-f55d-4c05-fbb3-5e491b8a1a5e"
   },
   "outputs": [
    {
     "data": {
      "text/plain": [
       "KstestResult(statistic=0.1591709471106818, pvalue=1.0374181653423456e-190)"
      ]
     },
     "execution_count": 53,
     "metadata": {},
     "output_type": "execute_result"
    }
   ],
   "source": [
    "#Test de Kolmogorov Smirnov pour tester l'adéquation à une loi normale\n",
    "x= np.array(freqs_achat_perage[\"frequence_achat\"], dtype=float)\n",
    "x -= np.mean(x)\n",
    "x /= np.std(x)\n",
    "st.kstest(x,'norm')"
   ]
  },
  {
   "cell_type": "markdown",
   "metadata": {
    "id": "nWIdN6j1VUez"
   },
   "source": [
    "La Pvalue est inférieure à 0.05 donc on rejette l'hypothèse H0 d'adéquation à une loi normale."
   ]
  },
  {
   "cell_type": "code",
   "execution_count": 54,
   "metadata": {
    "id": "16DjfbhXSO7p"
   },
   "outputs": [],
   "source": [
    "# Créé une table par tranche d'age pour le test de Kruskal\n",
    "frap_moins18 = freqs_achat_perage.loc[freqs_achat_perage.age<=18]\n",
    "frap18_25 = freqs_achat_perage.loc[(freqs_achat_perage.age>18) & (freqs_achat_perage.age<=25)]\n",
    "frap25_35 = freqs_achat_perage.loc[(freqs_achat_perage.age>25) & (freqs_achat_perage.age<=35)]\n",
    "frap35_45 = freqs_achat_perage.loc[(freqs_achat_perage.age>35) & (freqs_achat_perage.age<=45)]\n",
    "frap45_55 = freqs_achat_perage.loc[(freqs_achat_perage.age>45) & (freqs_achat_perage.age<=55)]\n",
    "frap55_65 = freqs_achat_perage.loc[(freqs_achat_perage.age>55) & (freqs_achat_perage.age<=65)]\n",
    "frap65plus = freqs_achat_perage.loc[freqs_achat_perage.age>65]"
   ]
  },
  {
   "cell_type": "markdown",
   "metadata": {},
   "source": [
    "Pour tester la corrélation entre 1 variable qualitative et une variable quantitative on peut réaliser un test d'Anova."
   ]
  },
  {
   "cell_type": "markdown",
   "metadata": {},
   "source": [
    "H0 : Les moyennes des différents groupes sont égales, il n'y a donc pas de corrélation."
   ]
  },
  {
   "cell_type": "code",
   "execution_count": 55,
   "metadata": {},
   "outputs": [
    {
     "name": "stdout",
     "output_type": "stream",
     "text": [
      "Pvalue :  0.0\n"
     ]
    },
    {
     "data": {
      "text/plain": [
       "True"
      ]
     },
     "execution_count": 55,
     "metadata": {},
     "output_type": "execute_result"
    }
   ],
   "source": [
    "# Réalise le test d'Anova\n",
    "Fstat, pvalue = st.f_oneway(frap_moins18.frequence_achat, frap18_25.frequence_achat, frap25_35.frequence_achat, frap35_45.frequence_achat, frap45_55.frequence_achat, frap55_65.frequence_achat, frap65plus.frequence_achat)\n",
    "print(\"Pvalue : \", pvalue)\n",
    "pvalue<=0.05"
   ]
  },
  {
   "cell_type": "markdown",
   "metadata": {},
   "source": [
    "La pValue est inférieure à 0.05, on peut donc rejetter l'hypothèse H0 et conclure à l'existence d'une corrélation entre les variables."
   ]
  },
  {
   "cell_type": "markdown",
   "metadata": {},
   "source": [
    "Etant donné que nos 2 jeux de données ne suivent pas une loi normale, on préfèrera le test de Kruskal, non paramétrique, à la place du test d'Anova."
   ]
  },
  {
   "cell_type": "markdown",
   "metadata": {},
   "source": [
    "Hypothèse H0 : Les médianes de tous les groupes sont proches, il n'y a donc pas de relation entre les variables."
   ]
  },
  {
   "cell_type": "code",
   "execution_count": 56,
   "metadata": {
    "colab": {
     "base_uri": "https://localhost:8080/"
    },
    "id": "Fa1TL9uzSzv5",
    "outputId": "685490cb-5c2a-489b-f680-73d4857419bc"
   },
   "outputs": [
    {
     "name": "stdout",
     "output_type": "stream",
     "text": [
      "Pvalue :  0.0\n"
     ]
    },
    {
     "data": {
      "text/plain": [
       "True"
      ]
     },
     "execution_count": 56,
     "metadata": {},
     "output_type": "execute_result"
    }
   ],
   "source": [
    "# Réalise le test de Kruskal\n",
    "Fstat, pvalue = st.kruskal(frap_moins18.frequence_achat, frap18_25.frequence_achat, frap25_35.frequence_achat, frap35_45.frequence_achat, frap45_55.frequence_achat, frap55_65.frequence_achat, frap65plus.frequence_achat)\n",
    "print(\"Pvalue : \", pvalue)\n",
    "pvalue<=0.05"
   ]
  },
  {
   "cell_type": "markdown",
   "metadata": {
    "id": "JFck3db5TQlQ"
   },
   "source": [
    "La Pvalue est égale à 0.0 donc on rejette l'hypothèse H0, les médianes ne sont pas toutes égales, il y a donc une relation entre les variables."
   ]
  },
  {
   "cell_type": "markdown",
   "metadata": {},
   "source": [
    "Si on essaye de considérer les deux variables comme quantitatives :"
   ]
  },
  {
   "cell_type": "code",
   "execution_count": 57,
   "metadata": {},
   "outputs": [
    {
     "data": {
      "image/png": "[encoded data removed]",
      "text/plain": [
       "<Figure size 432x288 with 1 Axes>"
      ]
     },
     "metadata": {
      "needs_background": "light"
     },
     "output_type": "display_data"
    }
   ],
   "source": [
    "#Affiche la Fréquence d'achat en fonction de l'âge sous forme de nuage de points\n",
    "plt.scatter(freqs_achat_perage.age, freqs_achat_perage.frequence_achat)\n",
    "plt.xlabel(\"Age\")\n",
    "plt.ylabel(\"Fréquence d'achat\")\n",
    "plt.title(\"Fréquence d'achat en fonction de l'âge\")\n",
    "plt.show()"
   ]
  },
  {
   "cell_type": "code",
   "execution_count": 58,
   "metadata": {
    "scrolled": true
   },
   "outputs": [
    {
     "data": {
      "image/png": "[encoded data removed]",
      "text/plain": [
       "<Figure size 432x288 with 1 Axes>"
      ]
     },
     "metadata": {
      "needs_background": "light"
     },
     "output_type": "display_data"
    },
    {
     "name": "stdout",
     "output_type": "stream",
     "text": [
      "-0.013206865718438572\n"
     ]
    }
   ],
   "source": [
    "# Calcule la moyenne de fréquence d'achat par age\n",
    "freqs_achat_perage2 = freqs_achat_perage.groupby(by=\"age\", as_index=False).mean()\n",
    "# Calcule la régression linéaire entre fréquence d'achat et age\n",
    "slope, intercept, r_value, p_value, std_err = st.linregress(freqs_achat_perage2.age, freqs_achat_perage2.frequence_achat)\n",
    "regression_lineaire = (slope*tachat_perage2.age)+intercept\n",
    "# Affiche la Fréquence d'achat moyenne en fonction de l'âge sous forme de nuage de points\n",
    "plt.scatter(freqs_achat_perage2.age, freqs_achat_perage2.frequence_achat)\n",
    "plt.plot(freqs_achat_perage2.age,regression_lineaire, color=\"red\")\n",
    "plt.xlabel(\"Age\")\n",
    "plt.ylabel(\"Fréquence d'achat\")\n",
    "plt.title(\"Fréquence d'achat moyenne en fonction de l'âge\")\n",
    "plt.show()\n",
    "print(slope)"
   ]
  },
  {
   "cell_type": "markdown",
   "metadata": {},
   "source": [
    "On tente de calculer le coefficient de Pearson."
   ]
  },
  {
   "cell_type": "markdown",
   "metadata": {},
   "source": [
    "Hypothèse H0 : Les données ne sont pas corrélées."
   ]
  },
  {
   "cell_type": "code",
   "execution_count": 59,
   "metadata": {},
   "outputs": [
    {
     "data": {
      "text/plain": [
       "(0.03044711750546824, 0.00475562829237661)"
      ]
     },
     "execution_count": 59,
     "metadata": {},
     "output_type": "execute_result"
    }
   ],
   "source": [
    "#Coefficient de Pearson\n",
    "st.pearsonr(freqs_achat_perage.age,freqs_achat_perage.frequence_achat)"
   ]
  },
  {
   "cell_type": "markdown",
   "metadata": {},
   "source": [
    "La pValue est inférieure à 0.05, on peut donc rejeter l'hypothèse H0 et conclure à une corrélation entre les 2 paramètres."
   ]
  },
  {
   "cell_type": "markdown",
   "metadata": {},
   "source": [
    "Le coefficient de Pearson présume que les données sont normalement distribuées, hors ici ce n'est pas le cas, on préférera donc l'utilisation du coefficient de Spearman."
   ]
  },
  {
   "cell_type": "markdown",
   "metadata": {},
   "source": [
    "Hypothèse H0 : Les données ne sont pas corrélées."
   ]
  },
  {
   "cell_type": "code",
   "execution_count": 60,
   "metadata": {},
   "outputs": [
    {
     "data": {
      "text/plain": [
       "SpearmanrResult(correlation=-0.18513759917564593, pvalue=3.797551375418047e-67)"
      ]
     },
     "execution_count": 60,
     "metadata": {},
     "output_type": "execute_result"
    }
   ],
   "source": [
    "#Coefficient de Spearman\n",
    "st.spearmanr(tachat_perage.age,tachat_perage.total_achat)"
   ]
  },
  {
   "cell_type": "markdown",
   "metadata": {},
   "source": [
    "On obtient une pValue inférieure à 0.05, on rejette donc l'hypothèse H0, les données sont corrélées."
   ]
  },
  {
   "cell_type": "markdown",
   "metadata": {},
   "source": [
    "On constate 3 groupes distincts, les moins de 30 ans, les 30-50 ans et les plus de 50 ans, avec une fréquence bien supérieure pour le groupe des 30-50 ans."
   ]
  },
  {
   "cell_type": "markdown",
   "metadata": {
    "id": "NvV_C88sBXsQ"
   },
   "source": [
    "## IV.d. Taille du panier moyen par tranches d'age"
   ]
  },
  {
   "cell_type": "code",
   "execution_count": 61,
   "metadata": {
    "colab": {
     "base_uri": "https://localhost:8080/",
     "height": 0
    },
    "id": "0LOtWh9OL9Pd",
    "outputId": "7da15d9a-d2fb-4cb8-d7b4-d14a729e622b"
   },
   "outputs": [
    {
     "data": {
      "text/plain": [
       "<function matplotlib.pyplot.show(close=None, block=None)>"
      ]
     },
     "execution_count": 61,
     "metadata": {},
     "output_type": "execute_result"
    },
    {
     "data": {
      "image/png": "[encoded data removed]",
      "text/plain": [
       "<Figure size 432x288 with 1 Axes>"
      ]
     },
     "metadata": {
      "needs_background": "light"
     },
     "output_type": "display_data"
    }
   ],
   "source": [
    "#Etablit la liste des clients actifs\n",
    "customers_act = pd.merge(customers, transactions, on=\"client_id\", how=\"inner\")\n",
    "customers_act = customers_act.drop_duplicates(subset=[\"client_id\"], keep=\"first\")\n",
    "customers_act = customers_act[(customers_act.client_id != \"c_3454\") & (customers_act.client_id != \"c_6714\") & (customers_act.client_id != \"c_4958\") & (customers_act.client_id != \"c_1609\")]\n",
    "#Organise la liste des clients actifs par tranche d'age et les comptabilise\n",
    "customers_act_perage = customers_act.groupby(pd.cut(customers_act.age, age_groups)).count()\n",
    "# Renomme la colonne client_id en nb_clients\n",
    "customers_act_perage = customers_act_perage.rename(columns={\"client_id\" : \"nb_clients\"})\n",
    "# Drop les colonnes inutiles\n",
    "customers_act_perage.drop(customers_act_perage.iloc[:, 1:6], inplace = True, axis = 1)\n",
    "#Divise la somme du CA de chaque tranche d'age par le nombre de client qui la compose\n",
    "moy_panier = transactions4_nootl[\"price\"].groupby(pd.cut(transactions4_nootl.age, age_groups)).sum()/customers_act_perage.nb_clients\n",
    "#Affiche le graphique des données\n",
    "moy_panier.plot.bar()\n",
    "plt.xlabel(\"Tranches d'age\")\n",
    "plt.ylabel(\"Taille du panier moyen\")\n",
    "plt.title(\"Taille du panier moyen par tranches d'âge\")\n",
    "#Affiche les données sur le graph\n",
    "for i in range(7):\n",
    "  plt.text(-0.25+i, moy_panier.iloc[0+i], str(round(moy_panier.iloc[0+i],2)))\n",
    "plt.show"
   ]
  },
  {
   "cell_type": "code",
   "execution_count": 62,
   "metadata": {
    "id": "5TwVfJeAfeW5"
   },
   "outputs": [],
   "source": [
    "# Créé un nouveau dataframe à partir de t4_nootl sans les colonnes qui ne serviront pas ici\n",
    "panier_par_age = transactions4_nootl.drop(columns=[\"id_prod\",\"date\",\"session_id\", \"sex\",\"birth\", \"age\",\"categ\"])\n",
    "# Regroupe les données par client\n",
    "panier_par_age = panier_par_age.groupby(by=\"client_id\", as_index=False).sum()\n",
    "# Rajoute les informations des clients dans le dataframe\n",
    "panier_par_age = pd.merge(panier_par_age, customers, on=\"client_id\", how=\"left\")\n",
    "# Drop les colonnes inutiles\n",
    "panier_par_age = panier_par_age.drop(columns=[\"sex\",\"birth\"])\n",
    "# Renomme la colone price en panier moyen\n",
    "panier_par_age = panier_par_age.rename(columns={\"price\":\"panier_moyen\"})"
   ]
  },
  {
   "cell_type": "code",
   "execution_count": 63,
   "metadata": {
    "colab": {
     "base_uri": "https://localhost:8080/"
    },
    "id": "vavv_CqGUIyu",
    "outputId": "d1c92d86-01ea-42eb-c969-0b4d812fb6c2"
   },
   "outputs": [
    {
     "data": {
      "text/plain": [
       "KstestResult(statistic=0.10643295658178747, pvalue=3.013094422068933e-85)"
      ]
     },
     "execution_count": 63,
     "metadata": {},
     "output_type": "execute_result"
    }
   ],
   "source": [
    "#Test de Kolmogorov Smirnov pour tester l'adéquation à une loi normale\n",
    "x= np.array(panier_par_age[\"panier_moyen\"], dtype=float)\n",
    "x -= np.mean(x)\n",
    "x /= np.std(x)\n",
    "st.kstest(x,'norm')"
   ]
  },
  {
   "cell_type": "markdown",
   "metadata": {
    "id": "FHfDr6G2Ul4C"
   },
   "source": [
    "La Pvalue est inférieure à 0.05 donc on rejette l'hypothèse d'adéquation à une loi normale."
   ]
  },
  {
   "cell_type": "code",
   "execution_count": 64,
   "metadata": {
    "id": "J4lyyKsPVEXz"
   },
   "outputs": [],
   "source": [
    "# Créé une table par tranche d'age pour le test de Kruskal\n",
    "groupe_moins18 = panier_par_age.loc[panier_par_age.age<=18]\n",
    "groupe18_25 = panier_par_age.loc[(panier_par_age.age>18) & (panier_par_age.age<=25)]\n",
    "groupe25_35 = panier_par_age.loc[(panier_par_age.age>25) & (panier_par_age.age<=35)]\n",
    "groupe35_45 = panier_par_age.loc[(panier_par_age.age>35) & (panier_par_age.age<=45)]\n",
    "groupe45_55 = panier_par_age.loc[(panier_par_age.age>45) & (panier_par_age.age<=55)]\n",
    "groupe55_65 = panier_par_age.loc[(panier_par_age.age>55) & (panier_par_age.age<=65)]\n",
    "groupe_65plus = panier_par_age.loc[panier_par_age.age>65]"
   ]
  },
  {
   "cell_type": "markdown",
   "metadata": {},
   "source": [
    "Pour tester la corrélation entre 1 variable qualitative et une variable quantitative on peut réaliser un test d'Anova."
   ]
  },
  {
   "cell_type": "markdown",
   "metadata": {},
   "source": [
    "H0 : Les moyennes des différents groupes sont égales, il n'y a donc pas de corrélation."
   ]
  },
  {
   "cell_type": "code",
   "execution_count": 65,
   "metadata": {},
   "outputs": [
    {
     "name": "stdout",
     "output_type": "stream",
     "text": [
      "Pvalue :  4.681514746200481e-113\n"
     ]
    },
    {
     "data": {
      "text/plain": [
       "True"
      ]
     },
     "execution_count": 65,
     "metadata": {},
     "output_type": "execute_result"
    }
   ],
   "source": [
    "# Réalise le test d'Anova\n",
    "Fstat, pvalue = st.f_oneway(groupe_moins18.panier_moyen, groupe18_25.panier_moyen, groupe25_35.panier_moyen, groupe35_45.panier_moyen, groupe45_55.panier_moyen, groupe55_65.panier_moyen, groupe_65plus.panier_moyen)\n",
    "print(\"Pvalue : \", pvalue)\n",
    "pvalue<=0.05"
   ]
  },
  {
   "cell_type": "markdown",
   "metadata": {},
   "source": [
    "On obtient une pValue inférieur à 0.05, on rejette l'hypothèse H0 et on soupçonne donc une relation entre les variables."
   ]
  },
  {
   "cell_type": "markdown",
   "metadata": {},
   "source": [
    "Etant donné que nos 2 jeux de données ne suivent pas une loi normale, on effectue un test de Kruskal à la place du test d'Anova."
   ]
  },
  {
   "cell_type": "markdown",
   "metadata": {},
   "source": [
    "Hypothèse H0 : Les médianes de tous les groupes sont proches, il n'y a donc pas de relation entre les variables."
   ]
  },
  {
   "cell_type": "code",
   "execution_count": 66,
   "metadata": {
    "colab": {
     "base_uri": "https://localhost:8080/"
    },
    "id": "Z4xr8EpBXZK6",
    "outputId": "f3e74ba5-4685-4a5d-bce3-cbbfa841fa0f"
   },
   "outputs": [
    {
     "name": "stdout",
     "output_type": "stream",
     "text": [
      "Pvalue :  8.106618551113491e-99\n"
     ]
    },
    {
     "data": {
      "text/plain": [
       "True"
      ]
     },
     "execution_count": 66,
     "metadata": {},
     "output_type": "execute_result"
    }
   ],
   "source": [
    "# Réalise le test de Kruskal\n",
    "Fstat, pvalue = st.kruskal(groupe_moins18.panier_moyen, groupe18_25.panier_moyen, groupe25_35.panier_moyen, groupe35_45.panier_moyen, groupe45_55.panier_moyen, groupe55_65.panier_moyen, groupe_65plus.panier_moyen)\n",
    "print(\"Pvalue : \", pvalue)\n",
    "pvalue<=0.05"
   ]
  },
  {
   "cell_type": "markdown",
   "metadata": {
    "id": "iSJ6eGjFaKRr"
   },
   "source": [
    "La Pvalue est inférieure à 0.05 donc on rejette l'hypothèse H0, les médianes de tous les groupes ne sont pas égales, il y a une relation entre les variables."
   ]
  },
  {
   "cell_type": "markdown",
   "metadata": {
    "id": "CvyEXv4pBday"
   },
   "source": [
    "## IV.e. Catégories de livres achetés par tranches d'age"
   ]
  },
  {
   "cell_type": "code",
   "execution_count": 67,
   "metadata": {
    "colab": {
     "base_uri": "https://localhost:8080/",
     "height": 0
    },
    "id": "14Qwp_VxVWQT",
    "outputId": "2a49af2e-9dc8-4946-ed62-8f110ddd1af4"
   },
   "outputs": [
    {
     "data": {
      "text/html": [
       "<div>\n",
       "<style scoped>\n",
       "    .dataframe tbody tr th:only-of-type {\n",
       "        vertical-align: middle;\n",
       "    }\n",
       "\n",
       "    .dataframe tbody tr th {\n",
       "        vertical-align: top;\n",
       "    }\n",
       "\n",
       "    .dataframe thead th {\n",
       "        text-align: right;\n",
       "    }\n",
       "</style>\n",
       "<table border=\"1\" class=\"dataframe\">\n",
       "  <thead>\n",
       "    <tr style=\"text-align: right;\">\n",
       "      <th>age</th>\n",
       "      <th>(1, 18]</th>\n",
       "      <th>(18, 25]</th>\n",
       "      <th>(25, 35]</th>\n",
       "      <th>(35, 45]</th>\n",
       "      <th>(45, 55]</th>\n",
       "      <th>(55, 65]</th>\n",
       "      <th>(65, 100]</th>\n",
       "    </tr>\n",
       "    <tr>\n",
       "      <th>categ</th>\n",
       "      <th></th>\n",
       "      <th></th>\n",
       "      <th></th>\n",
       "      <th></th>\n",
       "      <th></th>\n",
       "      <th></th>\n",
       "      <th></th>\n",
       "    </tr>\n",
       "  </thead>\n",
       "  <tbody>\n",
       "    <tr>\n",
       "      <th>0</th>\n",
       "      <td>313</td>\n",
       "      <td>703</td>\n",
       "      <td>1408</td>\n",
       "      <td>1769</td>\n",
       "      <td>1548</td>\n",
       "      <td>1096</td>\n",
       "      <td>1055</td>\n",
       "    </tr>\n",
       "    <tr>\n",
       "      <th>1</th>\n",
       "      <td>427</td>\n",
       "      <td>950</td>\n",
       "      <td>1621</td>\n",
       "      <td>1756</td>\n",
       "      <td>1541</td>\n",
       "      <td>1095</td>\n",
       "      <td>1059</td>\n",
       "    </tr>\n",
       "    <tr>\n",
       "      <th>2</th>\n",
       "      <td>415</td>\n",
       "      <td>959</td>\n",
       "      <td>968</td>\n",
       "      <td>403</td>\n",
       "      <td>355</td>\n",
       "      <td>266</td>\n",
       "      <td>227</td>\n",
       "    </tr>\n",
       "  </tbody>\n",
       "</table>\n",
       "</div>"
      ],
      "text/plain": [
       "age    (1, 18]  (18, 25]  (25, 35]  (35, 45]  (45, 55]  (55, 65]  (65, 100]\n",
       "categ                                                                      \n",
       "0          313       703      1408      1769      1548      1096       1055\n",
       "1          427       950      1621      1756      1541      1095       1059\n",
       "2          415       959       968       403       355       266        227"
      ]
     },
     "execution_count": 67,
     "metadata": {},
     "output_type": "execute_result"
    }
   ],
   "source": [
    "# Prépare les donnés de catégories par genre en supprimant les colonnes inutiles\n",
    "categ_par_age = transactions4_nootl.drop(columns=[\"id_prod\",\"date\",\"session_id\", \"sex\",\"birth\",\"price\"])\n",
    "# Drop les doublons pour ne garder qu'une seule instance d'un client pour un achat dans une catégorie\n",
    "categ_par_age = categ_par_age.drop_duplicates(keep=\"first\")\n",
    "# Créé une table de contingence qui crois les données de sex et d'achat par catégorie\n",
    "categ_par_age = pd.crosstab(categ_par_age.categ, pd.cut(categ_par_age.age, age_groups), margins=False)\n",
    "categ_par_age"
   ]
  },
  {
   "cell_type": "code",
   "execution_count": 68,
   "metadata": {
    "colab": {
     "base_uri": "https://localhost:8080/"
    },
    "id": "xIZey3HkVrEf",
    "outputId": "732e975c-4e26-4c7b-ee00-9f46cec3c2ce"
   },
   "outputs": [
    {
     "name": "stdout",
     "output_type": "stream",
     "text": [
      "Satistique chi2 :  1511.3430629302768\n",
      "P value : 0.0\n",
      "Degrès de liberté : 12\n",
      "Pvalue<=0.05 : True\n"
     ]
    }
   ],
   "source": [
    "# Réalise le test du Chi2 pour vérifier si les variables age et catégorie de produit acheté sont indépendantes ou non\n",
    "st_chi2, st_p, st_dof, st_exp = st.chi2_contingency(categ_par_age)\n",
    "print(\"Satistique chi2 : \",st_chi2)\n",
    "print(\"P value :\",st_p)\n",
    "print(\"Degrès de liberté :\",st_dof)\n",
    "print(\"Pvalue<=0.05 :\",st_p<=0.05)"
   ]
  },
  {
   "cell_type": "markdown",
   "metadata": {
    "id": "fXTqdm6-Zz2v"
   },
   "source": [
    "La Pvalue est inférieur à 0.05 donc on rejette l'hypothèse H0, les variables ne sont pas indépendantes."
   ]
  },
  {
   "cell_type": "code",
   "execution_count": 69,
   "metadata": {
    "colab": {
     "base_uri": "https://localhost:8080/",
     "height": 0
    },
    "id": "i2vDfEiIr_M1",
    "outputId": "7c388546-222e-4b4b-8d21-7fd919d83792"
   },
   "outputs": [
    {
     "data": {
      "image/png": "[encoded data removed]",
      "text/plain": [
       "<Figure size 1080x720 with 1 Axes>"
      ]
     },
     "metadata": {
      "needs_background": "light"
     },
     "output_type": "display_data"
    }
   ],
   "source": [
    "#Nombre de barres\n",
    "N2 = 7\n",
    "# Position des barres sur l'axe des abscisses\n",
    "ind = np.arange(N2)\n",
    "# Règle la taille de la figure\n",
    "plt.figure(figsize=(15,10))\n",
    "# Règle la largeur des barres\n",
    "width = 0.3\n",
    "# Créé les barres\n",
    "c0=plt.bar(ind, categ_par_age.iloc[0] , width, label='Categorie 0')\n",
    "c1=plt.bar(ind + width, categ_par_age.iloc[1], width, label='Categorie 1')\n",
    "c2=plt.bar(ind + (width*2), categ_par_age.iloc[2], width, label='Categorie 2')\n",
    "# Affiche le nom des axes\n",
    "plt.xlabel('Catégories de produit')\n",
    "plt.ylabel(\"Nombres d'achats par catégories\")\n",
    "#Affiche le titre\n",
    "plt.title(\"Catégories des livres achetés par tranche d'âge\")\n",
    "# Affiche les noms des ticks de l'axe des abscisses\n",
    "plt.xticks(ind + (width*2) / 2, ('-18', '18-25', '25-35', '35-45', '45-55', '55-65', '65+'))\n",
    "# Affiche la légende\n",
    "plt.legend(loc='best')\n",
    "\n",
    "tx0=categ_par_age.iloc[0]\n",
    "tx1=categ_par_age.iloc[1]\n",
    "tx2=categ_par_age.iloc[2]\n",
    "\n",
    "#Affiche les valeurs sur le graphique\n",
    "for i in range(7):\n",
    "  plt.text(-0.1+i, tx0[0+i], str(tx0[0+i]))\n",
    "  plt.text(0.2+i, tx1[0+i], str(tx1[0+i]))\n",
    "  plt.text(0.5+i, tx2[0+i], str(tx2[0+i]))\n",
    "\n",
    "plt.show()"
   ]
  },
  {
   "cell_type": "markdown",
   "metadata": {
    "id": "dXxZEuhXphwb"
   },
   "source": [
    "## IV.f. Probabilité"
   ]
  },
  {
   "cell_type": "code",
   "execution_count": 70,
   "metadata": {
    "colab": {
     "base_uri": "https://localhost:8080/"
    },
    "id": "4ouVibDSpn5c",
    "outputId": "8869f882-fe58-417f-9665-6410671c947d"
   },
   "outputs": [
    {
     "data": {
      "text/plain": [
       "both          459\n",
       "left_only      71\n",
       "right_only      0\n",
       "Name: _merge, dtype: int64"
      ]
     },
     "execution_count": 70,
     "metadata": {},
     "output_type": "execute_result"
    }
   ],
   "source": [
    "# Isole les données de transactions pour le produit 2_159\n",
    "transactions_2159 = transactions.loc[transactions.id_prod==\"2_159\"]\n",
    "# Supprime les colonnes inutiles\n",
    "transactions_2159 = transactions_2159.drop(columns = [\"date\", \"session_id\", \"id_prod\"])\n",
    "# Supprime les doublons (clients ayant acheté le produit plusieurs fois)\n",
    "transactions_2159 = transactions_2159.drop_duplicates(keep=\"first\")\n",
    "# Isole les données de transactions pour le produit 2_159\n",
    "transactions_0525 = transactions.loc[transactions.id_prod==\"0_525\"]\n",
    "# Supprime les colonnes inutiles\n",
    "transactions_0525 = transactions_0525.drop(columns = [\"date\", \"session_id\", \"id_prod\"])\n",
    "# Supprime les doublons (clients ayant acheté le produit plusieurs fois)\n",
    "transactions_0525 = transactions_0525.drop_duplicates(keep=\"first\")\n",
    "# Effectue une jointure entre les tables pour compter les clients présents dans l'une, l'autre ou les deux tables à la fois\n",
    "t2159_0525 = pd.merge(transactions_2159, transactions_0525,how=\"outer\", indicator=True)\n",
    "# Compte les valeurs right only, left only, both\n",
    "t2159_0525 = t2159_0525._merge.value_counts()\n",
    "t2159_0525"
   ]
  },
  {
   "cell_type": "markdown",
   "metadata": {},
   "source": [
    "Parmi les clients qui ont acheté les références 2_159 et/ou 0_525 459 clients ont acheté les deux références, 71 ont acheté la référence 2_159 uniquement et aucun client n'a acheté la référence 0_525 sans la référence 2_159. Donc pAnB est égale à pB."
   ]
  },
  {
   "cell_type": "code",
   "execution_count": 71,
   "metadata": {},
   "outputs": [
    {
     "name": "stdout",
     "output_type": "stream",
     "text": [
      "Il y a  86.6 % de chance qu'un client achète la référence 0_525 en sachant qu'il a acheté la référence 2_159.\n"
     ]
    }
   ],
   "source": [
    "# Calcule la probabilité qu'un client achète la référence 0_525 si il a acheté la référence 2_159\n",
    "pA = len(transactions_2159)/len(customers)\n",
    "pB = len(transactions_0525)/len(customers)\n",
    "pAnB = pB\n",
    "pBsachantA = pAnB/pA\n",
    "\n",
    "print(\"Il y a \", round(pBsachantA*100,2), \"% de chance qu'un client achète la référence 0_525 en sachant qu'il a acheté la référence 2_159.\")"
   ]
  },
  {
   "cell_type": "code",
   "execution_count": null,
   "metadata": {},
   "outputs": [],
   "source": []
  }
 ],
 "metadata": {
  "colab": {
   "collapsed_sections": [
    "v2yK-Ofho2Rm",
    "H0GB-L2Wo5ep",
    "8B0ew3uAnLQV",
    "ttT2SIJjo_7-",
    "uH7cVQBCbnTZ",
    "7d-jZydqKhB_",
    "kHZP5cPsKnZk",
    "rpn3mu4Dy-NM",
    "K6LQpH5l4p88",
    "4qwVS7RPDEbN",
    "goqK8zJf5Ab_",
    "AaMSKASn5gXk",
    "0piZEovG6LEt",
    "Vb-w2vJGuWH7",
    "FzvDIer8eXfT",
    "yWryJ_rDBHG4",
    "YuE95XBvBMpc",
    "RnRurVqJBQh4",
    "NvV_C88sBXsQ",
    "CvyEXv4pBday",
    "dXxZEuhXphwb"
   ],
   "name": "Projet 6.ipynb",
   "provenance": []
  },
  "kernelspec": {
   "display_name": "Python 3",
   "language": "python",
   "name": "python3"
  },
  "language_info": {
   "codemirror_mode": {
    "name": "ipython",
    "version": 3
   },
   "file_extension": ".py",
   "mimetype": "text/x-python",
   "name": "python",
   "nbconvert_exporter": "python",
   "pygments_lexer": "ipython3",
   "version": "3.8.8"
  }
 },
 "nbformat": 4,
 "nbformat_minor": 1
}
